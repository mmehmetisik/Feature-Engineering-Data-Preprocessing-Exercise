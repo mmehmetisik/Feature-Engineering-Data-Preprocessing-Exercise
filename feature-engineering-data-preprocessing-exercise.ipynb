{
 "cells": [
  {
   "cell_type": "markdown",
   "id": "abd440f6",
   "metadata": {
    "papermill": {
     "duration": 0.031614,
     "end_time": "2023-07-16T13:31:14.795477",
     "exception": false,
     "start_time": "2023-07-16T13:31:14.763863",
     "status": "completed"
    },
    "tags": []
   },
   "source": [
    "# Titanic End-to-End Feature Engineering and Data Preprocessing Exercise"
   ]
  },
  {
   "cell_type": "markdown",
   "id": "4b5f102f",
   "metadata": {
    "papermill": {
     "duration": 0.031192,
     "end_time": "2023-07-16T13:31:14.858251",
     "exception": false,
     "start_time": "2023-07-16T13:31:14.827059",
     "status": "completed"
    },
    "tags": []
   },
   "source": [
    "- **In this application, using the Titanic dataset, we will clean the data and convert it into the format required by the machine learning model by applying the following steps in order from end to end.**"
   ]
  },
  {
   "cell_type": "markdown",
   "id": "07b5d35f",
   "metadata": {
    "papermill": {
     "duration": 0.03167,
     "end_time": "2023-07-16T13:31:14.921140",
     "exception": false,
     "start_time": "2023-07-16T13:31:14.889470",
     "status": "completed"
    },
    "tags": []
   },
   "source": [
    "# Road Map\n",
    "\n",
    "1. **Import Required Libraries**\n",
    "\n",
    "2. **Adjusting Row Column Settings**\n",
    "\n",
    "3. **Loading the data set.**\n",
    "\n",
    "4. **Exploratory data analysis.**\n",
    "\n",
    "5. **Feature Engineering**\n",
    "\n",
    "6. **Outliers**\n",
    "\n",
    "7. **Missing Values**\n",
    "\n",
    "8. **Label Encoding**\n",
    "\n",
    "9. **Rare Encoding**\n",
    "\n",
    "10. **One-Hot Encoding**\n",
    "\n",
    "11. **Standardization**\n",
    "\n",
    "12. **Bonus :)**"
   ]
  },
  {
   "cell_type": "markdown",
   "id": "a201d9c9",
   "metadata": {
    "papermill": {
     "duration": 0.031598,
     "end_time": "2023-07-16T13:31:14.984086",
     "exception": false,
     "start_time": "2023-07-16T13:31:14.952488",
     "status": "completed"
    },
    "tags": []
   },
   "source": [
    "# 1. Import Required Libraries"
   ]
  },
  {
   "cell_type": "code",
   "execution_count": 1,
   "id": "8f891885",
   "metadata": {
    "execution": {
     "iopub.execute_input": "2023-07-16T13:31:15.049519Z",
     "iopub.status.busy": "2023-07-16T13:31:15.049110Z",
     "iopub.status.idle": "2023-07-16T13:31:30.026687Z",
     "shell.execute_reply": "2023-07-16T13:31:30.025099Z"
    },
    "papermill": {
     "duration": 15.013581,
     "end_time": "2023-07-16T13:31:30.029897",
     "exception": false,
     "start_time": "2023-07-16T13:31:15.016316",
     "status": "completed"
    },
    "tags": []
   },
   "outputs": [
    {
     "name": "stdout",
     "output_type": "stream",
     "text": [
      "Requirement already satisfied: missingno in /opt/conda/lib/python3.10/site-packages (0.5.2)\r\n",
      "Requirement already satisfied: numpy in /opt/conda/lib/python3.10/site-packages (from missingno) (1.23.5)\r\n",
      "Requirement already satisfied: matplotlib in /opt/conda/lib/python3.10/site-packages (from missingno) (3.7.1)\r\n",
      "Requirement already satisfied: scipy in /opt/conda/lib/python3.10/site-packages (from missingno) (1.11.1)\r\n",
      "Requirement already satisfied: seaborn in /opt/conda/lib/python3.10/site-packages (from missingno) (0.12.2)\r\n",
      "Requirement already satisfied: contourpy>=1.0.1 in /opt/conda/lib/python3.10/site-packages (from matplotlib->missingno) (1.1.0)\r\n",
      "Requirement already satisfied: cycler>=0.10 in /opt/conda/lib/python3.10/site-packages (from matplotlib->missingno) (0.11.0)\r\n",
      "Requirement already satisfied: fonttools>=4.22.0 in /opt/conda/lib/python3.10/site-packages (from matplotlib->missingno) (4.40.0)\r\n",
      "Requirement already satisfied: kiwisolver>=1.0.1 in /opt/conda/lib/python3.10/site-packages (from matplotlib->missingno) (1.4.4)\r\n",
      "Requirement already satisfied: packaging>=20.0 in /opt/conda/lib/python3.10/site-packages (from matplotlib->missingno) (21.3)\r\n",
      "Requirement already satisfied: pillow>=6.2.0 in /opt/conda/lib/python3.10/site-packages (from matplotlib->missingno) (9.5.0)\r\n",
      "Requirement already satisfied: pyparsing>=2.3.1 in /opt/conda/lib/python3.10/site-packages (from matplotlib->missingno) (3.0.9)\r\n",
      "Requirement already satisfied: python-dateutil>=2.7 in /opt/conda/lib/python3.10/site-packages (from matplotlib->missingno) (2.8.2)\r\n",
      "Requirement already satisfied: pandas>=0.25 in /opt/conda/lib/python3.10/site-packages (from seaborn->missingno) (1.5.3)\r\n",
      "Requirement already satisfied: pytz>=2020.1 in /opt/conda/lib/python3.10/site-packages (from pandas>=0.25->seaborn->missingno) (2023.3)\r\n",
      "Requirement already satisfied: six>=1.5 in /opt/conda/lib/python3.10/site-packages (from python-dateutil>=2.7->matplotlib->missingno) (1.16.0)\r\n"
     ]
    }
   ],
   "source": [
    "!pip install missingno"
   ]
  },
  {
   "cell_type": "code",
   "execution_count": 2,
   "id": "0714414b",
   "metadata": {
    "execution": {
     "iopub.execute_input": "2023-07-16T13:31:30.096209Z",
     "iopub.status.busy": "2023-07-16T13:31:30.095711Z",
     "iopub.status.idle": "2023-07-16T13:31:32.434185Z",
     "shell.execute_reply": "2023-07-16T13:31:32.433116Z"
    },
    "papermill": {
     "duration": 2.374908,
     "end_time": "2023-07-16T13:31:32.436814",
     "exception": false,
     "start_time": "2023-07-16T13:31:30.061906",
     "status": "completed"
    },
    "tags": []
   },
   "outputs": [
    {
     "name": "stderr",
     "output_type": "stream",
     "text": [
      "/opt/conda/lib/python3.10/site-packages/scipy/__init__.py:146: UserWarning: A NumPy version >=1.16.5 and <1.23.0 is required for this version of SciPy (detected version 1.23.5\n",
      "  warnings.warn(f\"A NumPy version >={np_minversion} and <{np_maxversion}\"\n"
     ]
    }
   ],
   "source": [
    "import numpy as np\n",
    "import pandas as pd\n",
    "import seaborn as sns\n",
    "\n",
    "from matplotlib import pyplot as plt\n",
    "import missingno as msno\n",
    "from datetime import date\n",
    "from sklearn.metrics import accuracy_score\n",
    "from sklearn.model_selection import train_test_split\n",
    "from sklearn.neighbors import LocalOutlierFactor  # => çok değişkenli outlier yakalama yöntemi için import edildi.\n",
    "from sklearn.preprocessing import MinMaxScaler, LabelEncoder, StandardScaler, RobustScaler\n",
    "from sklearn.ensemble import RandomForestClassifier"
   ]
  },
  {
   "cell_type": "markdown",
   "id": "f5e63449",
   "metadata": {
    "papermill": {
     "duration": 0.031535,
     "end_time": "2023-07-16T13:31:32.500455",
     "exception": false,
     "start_time": "2023-07-16T13:31:32.468920",
     "status": "completed"
    },
    "tags": []
   },
   "source": [
    "# 2. Adjusting Row Column Settings"
   ]
  },
  {
   "cell_type": "code",
   "execution_count": 3,
   "id": "b8141573",
   "metadata": {
    "execution": {
     "iopub.execute_input": "2023-07-16T13:31:32.567841Z",
     "iopub.status.busy": "2023-07-16T13:31:32.567096Z",
     "iopub.status.idle": "2023-07-16T13:31:32.572437Z",
     "shell.execute_reply": "2023-07-16T13:31:32.571529Z"
    },
    "papermill": {
     "duration": 0.041926,
     "end_time": "2023-07-16T13:31:32.574606",
     "exception": false,
     "start_time": "2023-07-16T13:31:32.532680",
     "status": "completed"
    },
    "tags": []
   },
   "outputs": [],
   "source": [
    "pd.set_option('display.max_columns', None)\n",
    "pd.set_option('display.max_rows', None)\n",
    "pd.set_option('display.float_format', lambda x: '%.3f' % x)\n",
    "pd.set_option('display.width', 500)"
   ]
  },
  {
   "cell_type": "markdown",
   "id": "c1422409",
   "metadata": {
    "papermill": {
     "duration": 0.03163,
     "end_time": "2023-07-16T13:31:32.638777",
     "exception": false,
     "start_time": "2023-07-16T13:31:32.607147",
     "status": "completed"
    },
    "tags": []
   },
   "source": [
    "# 3. Loading the data set."
   ]
  },
  {
   "cell_type": "code",
   "execution_count": 4,
   "id": "1dc62ac7",
   "metadata": {
    "execution": {
     "iopub.execute_input": "2023-07-16T13:31:32.705275Z",
     "iopub.status.busy": "2023-07-16T13:31:32.704481Z",
     "iopub.status.idle": "2023-07-16T13:31:32.740311Z",
     "shell.execute_reply": "2023-07-16T13:31:32.739082Z"
    },
    "papermill": {
     "duration": 0.071831,
     "end_time": "2023-07-16T13:31:32.742961",
     "exception": false,
     "start_time": "2023-07-16T13:31:32.671130",
     "status": "completed"
    },
    "tags": []
   },
   "outputs": [],
   "source": [
    "# Loading the Data Set\n",
    "\n",
    "df = pd.read_csv('/kaggle/input/data-science-day1-titanic/DSB_Day1_Titanic_train.csv')"
   ]
  },
  {
   "cell_type": "markdown",
   "id": "daf7123a",
   "metadata": {
    "papermill": {
     "duration": 0.031521,
     "end_time": "2023-07-16T13:31:32.806798",
     "exception": false,
     "start_time": "2023-07-16T13:31:32.775277",
     "status": "completed"
    },
    "tags": []
   },
   "source": [
    "# 4. Exploratory Data Analysis"
   ]
  },
  {
   "cell_type": "code",
   "execution_count": 5,
   "id": "642e067d",
   "metadata": {
    "execution": {
     "iopub.execute_input": "2023-07-16T13:31:32.872966Z",
     "iopub.status.busy": "2023-07-16T13:31:32.872263Z",
     "iopub.status.idle": "2023-07-16T13:31:32.930438Z",
     "shell.execute_reply": "2023-07-16T13:31:32.929258Z"
    },
    "papermill": {
     "duration": 0.094557,
     "end_time": "2023-07-16T13:31:32.933231",
     "exception": false,
     "start_time": "2023-07-16T13:31:32.838674",
     "status": "completed"
    },
    "tags": []
   },
   "outputs": [
    {
     "name": "stdout",
     "output_type": "stream",
     "text": [
      "##################### Shape #####################\n",
      "(891, 12)\n",
      "##################### Types #####################\n",
      "PassengerId      int64\n",
      "Survived         int64\n",
      "Pclass           int64\n",
      "Name            object\n",
      "Sex             object\n",
      "Age            float64\n",
      "SibSp            int64\n",
      "Parch            int64\n",
      "Ticket          object\n",
      "Fare           float64\n",
      "Cabin           object\n",
      "Embarked        object\n",
      "dtype: object\n",
      "##################### Head #####################\n",
      "   PassengerId  Survived  Pclass                                               Name     Sex    Age  SibSp  Parch            Ticket   Fare Cabin Embarked\n",
      "0            1         0       3                            Braund, Mr. Owen Harris    male 22.000      1      0         A/5 21171  7.250   NaN        S\n",
      "1            2         1       1  Cumings, Mrs. John Bradley (Florence Briggs Th...  female 38.000      1      0          PC 17599 71.283   C85        C\n",
      "2            3         1       3                             Heikkinen, Miss. Laina  female 26.000      0      0  STON/O2. 3101282  7.925   NaN        S\n",
      "3            4         1       1       Futrelle, Mrs. Jacques Heath (Lily May Peel)  female 35.000      1      0            113803 53.100  C123        S\n",
      "4            5         0       3                           Allen, Mr. William Henry    male 35.000      0      0            373450  8.050   NaN        S\n",
      "##################### Tail #####################\n",
      "     PassengerId  Survived  Pclass                                      Name     Sex    Age  SibSp  Parch      Ticket   Fare Cabin Embarked\n",
      "886          887         0       2                     Montvila, Rev. Juozas    male 27.000      0      0      211536 13.000   NaN        S\n",
      "887          888         1       1              Graham, Miss. Margaret Edith  female 19.000      0      0      112053 30.000   B42        S\n",
      "888          889         0       3  Johnston, Miss. Catherine Helen \"Carrie\"  female    NaN      1      2  W./C. 6607 23.450   NaN        S\n",
      "889          890         1       1                     Behr, Mr. Karl Howell    male 26.000      0      0      111369 30.000  C148        C\n",
      "890          891         0       3                       Dooley, Mr. Patrick    male 32.000      0      0      370376  7.750   NaN        Q\n",
      "##################### NA #####################\n",
      "PassengerId      0\n",
      "Survived         0\n",
      "Pclass           0\n",
      "Name             0\n",
      "Sex              0\n",
      "Age            177\n",
      "SibSp            0\n",
      "Parch            0\n",
      "Ticket           0\n",
      "Fare             0\n",
      "Cabin          687\n",
      "Embarked         2\n",
      "dtype: int64\n",
      "##################### Quantiles #####################\n",
      "              count    mean     std   min    0%     5%     50%     95%     99%    100%     max\n",
      "PassengerId 891.000 446.000 257.354 1.000 1.000 45.500 446.000 846.500 882.100 891.000 891.000\n",
      "Survived    891.000   0.384   0.487 0.000 0.000  0.000   0.000   1.000   1.000   1.000   1.000\n",
      "Pclass      891.000   2.309   0.836 1.000 1.000  1.000   3.000   3.000   3.000   3.000   3.000\n",
      "Age         714.000  29.699  14.526 0.420 0.420  4.000  28.000  56.000  65.870  80.000  80.000\n",
      "SibSp       891.000   0.523   1.103 0.000 0.000  0.000   0.000   3.000   5.000   8.000   8.000\n",
      "Parch       891.000   0.382   0.806 0.000 0.000  0.000   0.000   2.000   4.000   6.000   6.000\n",
      "Fare        891.000  32.204  49.693 0.000 0.000  7.225  14.454 112.079 249.006 512.329 512.329\n"
     ]
    }
   ],
   "source": [
    "# Preliminary examination of the data set\n",
    "\n",
    "def check_df(dataframe, head=5):\n",
    "    print('##################### Shape #####################')\n",
    "    print(dataframe.shape)\n",
    "    print('##################### Types #####################')\n",
    "    print(dataframe.dtypes)\n",
    "    print('##################### Head #####################')\n",
    "    print(dataframe.head(head))\n",
    "    print('##################### Tail #####################')\n",
    "    print(dataframe.tail(head))\n",
    "    print('##################### NA #####################')\n",
    "    print(dataframe.isnull().sum())\n",
    "    print('##################### Quantiles #####################')\n",
    "    print(dataframe.describe([0, 0.05, 0.50, 0.95, 0.99, 1]).T)\n",
    "\n",
    "check_df(df)"
   ]
  },
  {
   "cell_type": "markdown",
   "id": "286d2f01",
   "metadata": {
    "papermill": {
     "duration": 0.031665,
     "end_time": "2023-07-16T13:31:32.997008",
     "exception": false,
     "start_time": "2023-07-16T13:31:32.965343",
     "status": "completed"
    },
    "tags": []
   },
   "source": [
    "# 5. Feature Engineering"
   ]
  },
  {
   "cell_type": "code",
   "execution_count": 6,
   "id": "08f21394",
   "metadata": {
    "execution": {
     "iopub.execute_input": "2023-07-16T13:31:33.063528Z",
     "iopub.status.busy": "2023-07-16T13:31:33.063061Z",
     "iopub.status.idle": "2023-07-16T13:31:33.068837Z",
     "shell.execute_reply": "2023-07-16T13:31:33.067691Z"
    },
    "papermill": {
     "duration": 0.041291,
     "end_time": "2023-07-16T13:31:33.071074",
     "exception": false,
     "start_time": "2023-07-16T13:31:33.029783",
     "status": "completed"
    },
    "tags": []
   },
   "outputs": [],
   "source": [
    "df.columns = [col.upper() for col in df.columns]"
   ]
  },
  {
   "cell_type": "code",
   "execution_count": 7,
   "id": "ff83ed58",
   "metadata": {
    "execution": {
     "iopub.execute_input": "2023-07-16T13:31:33.139947Z",
     "iopub.status.busy": "2023-07-16T13:31:33.138689Z",
     "iopub.status.idle": "2023-07-16T13:31:33.158031Z",
     "shell.execute_reply": "2023-07-16T13:31:33.156835Z"
    },
    "papermill": {
     "duration": 0.057309,
     "end_time": "2023-07-16T13:31:33.160676",
     "exception": false,
     "start_time": "2023-07-16T13:31:33.103367",
     "status": "completed"
    },
    "tags": []
   },
   "outputs": [
    {
     "data": {
      "text/html": [
       "<div>\n",
       "<style scoped>\n",
       "    .dataframe tbody tr th:only-of-type {\n",
       "        vertical-align: middle;\n",
       "    }\n",
       "\n",
       "    .dataframe tbody tr th {\n",
       "        vertical-align: top;\n",
       "    }\n",
       "\n",
       "    .dataframe thead th {\n",
       "        text-align: right;\n",
       "    }\n",
       "</style>\n",
       "<table border=\"1\" class=\"dataframe\">\n",
       "  <thead>\n",
       "    <tr style=\"text-align: right;\">\n",
       "      <th></th>\n",
       "      <th>PASSENGERID</th>\n",
       "      <th>SURVIVED</th>\n",
       "      <th>PCLASS</th>\n",
       "      <th>NAME</th>\n",
       "      <th>SEX</th>\n",
       "      <th>AGE</th>\n",
       "      <th>SIBSP</th>\n",
       "      <th>PARCH</th>\n",
       "      <th>TICKET</th>\n",
       "      <th>FARE</th>\n",
       "      <th>CABIN</th>\n",
       "      <th>EMBARKED</th>\n",
       "    </tr>\n",
       "  </thead>\n",
       "  <tbody>\n",
       "    <tr>\n",
       "      <th>0</th>\n",
       "      <td>1</td>\n",
       "      <td>0</td>\n",
       "      <td>3</td>\n",
       "      <td>Braund, Mr. Owen Harris</td>\n",
       "      <td>male</td>\n",
       "      <td>22.000</td>\n",
       "      <td>1</td>\n",
       "      <td>0</td>\n",
       "      <td>A/5 21171</td>\n",
       "      <td>7.250</td>\n",
       "      <td>NaN</td>\n",
       "      <td>S</td>\n",
       "    </tr>\n",
       "    <tr>\n",
       "      <th>1</th>\n",
       "      <td>2</td>\n",
       "      <td>1</td>\n",
       "      <td>1</td>\n",
       "      <td>Cumings, Mrs. John Bradley (Florence Briggs Th...</td>\n",
       "      <td>female</td>\n",
       "      <td>38.000</td>\n",
       "      <td>1</td>\n",
       "      <td>0</td>\n",
       "      <td>PC 17599</td>\n",
       "      <td>71.283</td>\n",
       "      <td>C85</td>\n",
       "      <td>C</td>\n",
       "    </tr>\n",
       "    <tr>\n",
       "      <th>2</th>\n",
       "      <td>3</td>\n",
       "      <td>1</td>\n",
       "      <td>3</td>\n",
       "      <td>Heikkinen, Miss. Laina</td>\n",
       "      <td>female</td>\n",
       "      <td>26.000</td>\n",
       "      <td>0</td>\n",
       "      <td>0</td>\n",
       "      <td>STON/O2. 3101282</td>\n",
       "      <td>7.925</td>\n",
       "      <td>NaN</td>\n",
       "      <td>S</td>\n",
       "    </tr>\n",
       "    <tr>\n",
       "      <th>3</th>\n",
       "      <td>4</td>\n",
       "      <td>1</td>\n",
       "      <td>1</td>\n",
       "      <td>Futrelle, Mrs. Jacques Heath (Lily May Peel)</td>\n",
       "      <td>female</td>\n",
       "      <td>35.000</td>\n",
       "      <td>1</td>\n",
       "      <td>0</td>\n",
       "      <td>113803</td>\n",
       "      <td>53.100</td>\n",
       "      <td>C123</td>\n",
       "      <td>S</td>\n",
       "    </tr>\n",
       "    <tr>\n",
       "      <th>4</th>\n",
       "      <td>5</td>\n",
       "      <td>0</td>\n",
       "      <td>3</td>\n",
       "      <td>Allen, Mr. William Henry</td>\n",
       "      <td>male</td>\n",
       "      <td>35.000</td>\n",
       "      <td>0</td>\n",
       "      <td>0</td>\n",
       "      <td>373450</td>\n",
       "      <td>8.050</td>\n",
       "      <td>NaN</td>\n",
       "      <td>S</td>\n",
       "    </tr>\n",
       "  </tbody>\n",
       "</table>\n",
       "</div>"
      ],
      "text/plain": [
       "   PASSENGERID  SURVIVED  PCLASS                                               NAME     SEX    AGE  SIBSP  PARCH            TICKET   FARE CABIN EMBARKED\n",
       "0            1         0       3                            Braund, Mr. Owen Harris    male 22.000      1      0         A/5 21171  7.250   NaN        S\n",
       "1            2         1       1  Cumings, Mrs. John Bradley (Florence Briggs Th...  female 38.000      1      0          PC 17599 71.283   C85        C\n",
       "2            3         1       3                             Heikkinen, Miss. Laina  female 26.000      0      0  STON/O2. 3101282  7.925   NaN        S\n",
       "3            4         1       1       Futrelle, Mrs. Jacques Heath (Lily May Peel)  female 35.000      1      0            113803 53.100  C123        S\n",
       "4            5         0       3                           Allen, Mr. William Henry    male 35.000      0      0            373450  8.050   NaN        S"
      ]
     },
     "execution_count": 7,
     "metadata": {},
     "output_type": "execute_result"
    }
   ],
   "source": [
    "df.head()"
   ]
  },
  {
   "cell_type": "code",
   "execution_count": 8,
   "id": "853f8d4d",
   "metadata": {
    "execution": {
     "iopub.execute_input": "2023-07-16T13:31:33.228525Z",
     "iopub.status.busy": "2023-07-16T13:31:33.227409Z",
     "iopub.status.idle": "2023-07-16T13:31:33.234495Z",
     "shell.execute_reply": "2023-07-16T13:31:33.233296Z"
    },
    "papermill": {
     "duration": 0.043627,
     "end_time": "2023-07-16T13:31:33.236957",
     "exception": false,
     "start_time": "2023-07-16T13:31:33.193330",
     "status": "completed"
    },
    "tags": []
   },
   "outputs": [],
   "source": [
    "# Cabin Bool\n",
    "\n",
    "df[\"New_CABIN_BOOL\"] = df[\"CABIN\"].notnull().astype(\"int\")"
   ]
  },
  {
   "cell_type": "code",
   "execution_count": 9,
   "id": "f516c92e",
   "metadata": {
    "execution": {
     "iopub.execute_input": "2023-07-16T13:31:33.305316Z",
     "iopub.status.busy": "2023-07-16T13:31:33.304890Z",
     "iopub.status.idle": "2023-07-16T13:31:33.311901Z",
     "shell.execute_reply": "2023-07-16T13:31:33.310746Z"
    },
    "papermill": {
     "duration": 0.044274,
     "end_time": "2023-07-16T13:31:33.314346",
     "exception": false,
     "start_time": "2023-07-16T13:31:33.270072",
     "status": "completed"
    },
    "tags": []
   },
   "outputs": [],
   "source": [
    "# Name Count\n",
    "\n",
    "df[\"NEW_NAME_COUNT\"] = df[\"NAME\"].str.len()"
   ]
  },
  {
   "cell_type": "code",
   "execution_count": 10,
   "id": "370e2c0f",
   "metadata": {
    "execution": {
     "iopub.execute_input": "2023-07-16T13:31:33.381330Z",
     "iopub.status.busy": "2023-07-16T13:31:33.380935Z",
     "iopub.status.idle": "2023-07-16T13:31:33.388962Z",
     "shell.execute_reply": "2023-07-16T13:31:33.387657Z"
    },
    "papermill": {
     "duration": 0.044412,
     "end_time": "2023-07-16T13:31:33.391451",
     "exception": false,
     "start_time": "2023-07-16T13:31:33.347039",
     "status": "completed"
    },
    "tags": []
   },
   "outputs": [],
   "source": [
    "# Name Word Count\n",
    "\n",
    "df[\"NEW_NAME_WORD_COUNT\"] = df[\"NAME\"].apply(lambda x: len(str(x).split(\" \")))"
   ]
  },
  {
   "cell_type": "code",
   "execution_count": 11,
   "id": "eae86ead",
   "metadata": {
    "execution": {
     "iopub.execute_input": "2023-07-16T13:31:33.458774Z",
     "iopub.status.busy": "2023-07-16T13:31:33.458344Z",
     "iopub.status.idle": "2023-07-16T13:31:33.467024Z",
     "shell.execute_reply": "2023-07-16T13:31:33.466079Z"
    },
    "papermill": {
     "duration": 0.044771,
     "end_time": "2023-07-16T13:31:33.469129",
     "exception": false,
     "start_time": "2023-07-16T13:31:33.424358",
     "status": "completed"
    },
    "tags": []
   },
   "outputs": [],
   "source": [
    "# Name Dr\n",
    "\n",
    "df[\"NEW_NAME_DR\"] = df[\"NAME\"].apply(lambda x: len([x for x in x.split() if x.startswith(\"Dr\")]))"
   ]
  },
  {
   "cell_type": "code",
   "execution_count": 12,
   "id": "10c00014",
   "metadata": {
    "execution": {
     "iopub.execute_input": "2023-07-16T13:31:33.536925Z",
     "iopub.status.busy": "2023-07-16T13:31:33.536421Z",
     "iopub.status.idle": "2023-07-16T13:31:33.544588Z",
     "shell.execute_reply": "2023-07-16T13:31:33.543315Z"
    },
    "papermill": {
     "duration": 0.044959,
     "end_time": "2023-07-16T13:31:33.546866",
     "exception": false,
     "start_time": "2023-07-16T13:31:33.501907",
     "status": "completed"
    },
    "tags": []
   },
   "outputs": [],
   "source": [
    "# Name Title\n",
    "\n",
    "df[\"NEW_TITLE\"] = df.NAME.str.extract(\" ([A-Za-z]+)\\.\", expand=False)"
   ]
  },
  {
   "cell_type": "code",
   "execution_count": 13,
   "id": "edb99c09",
   "metadata": {
    "execution": {
     "iopub.execute_input": "2023-07-16T13:31:33.616530Z",
     "iopub.status.busy": "2023-07-16T13:31:33.615489Z",
     "iopub.status.idle": "2023-07-16T13:31:33.621827Z",
     "shell.execute_reply": "2023-07-16T13:31:33.621005Z"
    },
    "papermill": {
     "duration": 0.043004,
     "end_time": "2023-07-16T13:31:33.624078",
     "exception": false,
     "start_time": "2023-07-16T13:31:33.581074",
     "status": "completed"
    },
    "tags": []
   },
   "outputs": [],
   "source": [
    "# Family Size\n",
    "\n",
    "df[\"NEW_FAMILY_SIZE\"] = df[\"SIBSP\"] + df[\"PARCH\"] + 1"
   ]
  },
  {
   "cell_type": "code",
   "execution_count": 14,
   "id": "75b77eea",
   "metadata": {
    "execution": {
     "iopub.execute_input": "2023-07-16T13:31:33.691503Z",
     "iopub.status.busy": "2023-07-16T13:31:33.690750Z",
     "iopub.status.idle": "2023-07-16T13:31:33.696875Z",
     "shell.execute_reply": "2023-07-16T13:31:33.695687Z"
    },
    "papermill": {
     "duration": 0.042932,
     "end_time": "2023-07-16T13:31:33.699370",
     "exception": false,
     "start_time": "2023-07-16T13:31:33.656438",
     "status": "completed"
    },
    "tags": []
   },
   "outputs": [],
   "source": [
    "# Age_Pclass\n",
    "\n",
    "df[\"NEW_AGE_PCLASS\"] = df[\"AGE\"] * df[\"PCLASS\"]"
   ]
  },
  {
   "cell_type": "code",
   "execution_count": 15,
   "id": "51b9f7aa",
   "metadata": {
    "execution": {
     "iopub.execute_input": "2023-07-16T13:31:33.766161Z",
     "iopub.status.busy": "2023-07-16T13:31:33.765728Z",
     "iopub.status.idle": "2023-07-16T13:31:33.775082Z",
     "shell.execute_reply": "2023-07-16T13:31:33.773606Z"
    },
    "papermill": {
     "duration": 0.04564,
     "end_time": "2023-07-16T13:31:33.777657",
     "exception": false,
     "start_time": "2023-07-16T13:31:33.732017",
     "status": "completed"
    },
    "tags": []
   },
   "outputs": [],
   "source": [
    "# IS Alone\n",
    "\n",
    "df.loc[((df[\"SIBSP\"] + df[\"PARCH\"]) > 0), \"NEW_IS_ALONE\"] = \"NO\"\n",
    "df.loc[((df[\"SIBSP\"] + df[\"PARCH\"]) == 0), \"NEW_IS_ALONE\"] = \"YES\""
   ]
  },
  {
   "cell_type": "code",
   "execution_count": 16,
   "id": "36841654",
   "metadata": {
    "execution": {
     "iopub.execute_input": "2023-07-16T13:31:33.845542Z",
     "iopub.status.busy": "2023-07-16T13:31:33.844746Z",
     "iopub.status.idle": "2023-07-16T13:31:33.854063Z",
     "shell.execute_reply": "2023-07-16T13:31:33.853013Z"
    },
    "papermill": {
     "duration": 0.046054,
     "end_time": "2023-07-16T13:31:33.856541",
     "exception": false,
     "start_time": "2023-07-16T13:31:33.810487",
     "status": "completed"
    },
    "tags": []
   },
   "outputs": [],
   "source": [
    "# Age Level\n",
    "\n",
    "df.loc[(df[\"AGE\"] < 18), \"NEW_AGE_CAT\"] = \"young\"\n",
    "df.loc[(df[\"AGE\"] >= 18) & (df[\"AGE\"] < 56), \"NEW_AGE_CAT\"] = \"mature\"\n",
    "df.loc[(df[\"AGE\"] >= 56), \"NEW_AGE_CAT\"] = \"senior\""
   ]
  },
  {
   "cell_type": "code",
   "execution_count": 17,
   "id": "87b1e8f0",
   "metadata": {
    "execution": {
     "iopub.execute_input": "2023-07-16T13:31:33.924542Z",
     "iopub.status.busy": "2023-07-16T13:31:33.923858Z",
     "iopub.status.idle": "2023-07-16T13:31:33.941074Z",
     "shell.execute_reply": "2023-07-16T13:31:33.939937Z"
    },
    "papermill": {
     "duration": 0.054604,
     "end_time": "2023-07-16T13:31:33.943900",
     "exception": false,
     "start_time": "2023-07-16T13:31:33.889296",
     "status": "completed"
    },
    "tags": []
   },
   "outputs": [],
   "source": [
    "# sex x age\n",
    "\n",
    "df.loc[(df[\"SEX\"] == \"male\") & (df[\"AGE\"] <= 21), \"NEW_SEX_CAT\"] = \"youngmale\"\n",
    "df.loc[(df[\"SEX\"] == \"male\") & ((df[\"AGE\"] > 21) & (df[\"AGE\"]) <= 50), \"NEW_SEX_CAT\"] = \"maturemale\"\n",
    "df.loc[(df[\"SEX\"] == \"male\") & (df[\"AGE\"] > 50), \"NEW_SEX_CAT\"] = \"seniormale\"\n",
    "df.loc[(df[\"SEX\"] == \"female\") & (df[\"AGE\"] <= 21), \"NEW_SEX_CAT\"] = \"youngfemale\"\n",
    "df.loc[(df[\"SEX\"] == \"female\") & ((df[\"AGE\"] > 21) & (df[\"AGE\"]) <= 50), \"NEW_SEX_CAT\"] = \"maturefemale\"\n",
    "df.loc[(df[\"SEX\"] == \"female\") & (df[\"AGE\"] > 50), \"NEW_SEX_CAT\"] = \"seniorfemale\""
   ]
  },
  {
   "cell_type": "code",
   "execution_count": 18,
   "id": "a60de93c",
   "metadata": {
    "execution": {
     "iopub.execute_input": "2023-07-16T13:31:34.011509Z",
     "iopub.status.busy": "2023-07-16T13:31:34.011112Z",
     "iopub.status.idle": "2023-07-16T13:31:34.033854Z",
     "shell.execute_reply": "2023-07-16T13:31:34.032692Z"
    },
    "papermill": {
     "duration": 0.059404,
     "end_time": "2023-07-16T13:31:34.036227",
     "exception": false,
     "start_time": "2023-07-16T13:31:33.976823",
     "status": "completed"
    },
    "tags": []
   },
   "outputs": [
    {
     "data": {
      "text/html": [
       "<div>\n",
       "<style scoped>\n",
       "    .dataframe tbody tr th:only-of-type {\n",
       "        vertical-align: middle;\n",
       "    }\n",
       "\n",
       "    .dataframe tbody tr th {\n",
       "        vertical-align: top;\n",
       "    }\n",
       "\n",
       "    .dataframe thead th {\n",
       "        text-align: right;\n",
       "    }\n",
       "</style>\n",
       "<table border=\"1\" class=\"dataframe\">\n",
       "  <thead>\n",
       "    <tr style=\"text-align: right;\">\n",
       "      <th></th>\n",
       "      <th>PASSENGERID</th>\n",
       "      <th>SURVIVED</th>\n",
       "      <th>PCLASS</th>\n",
       "      <th>NAME</th>\n",
       "      <th>SEX</th>\n",
       "      <th>AGE</th>\n",
       "      <th>SIBSP</th>\n",
       "      <th>PARCH</th>\n",
       "      <th>TICKET</th>\n",
       "      <th>FARE</th>\n",
       "      <th>CABIN</th>\n",
       "      <th>EMBARKED</th>\n",
       "      <th>New_CABIN_BOOL</th>\n",
       "      <th>NEW_NAME_COUNT</th>\n",
       "      <th>NEW_NAME_WORD_COUNT</th>\n",
       "      <th>NEW_NAME_DR</th>\n",
       "      <th>NEW_TITLE</th>\n",
       "      <th>NEW_FAMILY_SIZE</th>\n",
       "      <th>NEW_AGE_PCLASS</th>\n",
       "      <th>NEW_IS_ALONE</th>\n",
       "      <th>NEW_AGE_CAT</th>\n",
       "      <th>NEW_SEX_CAT</th>\n",
       "    </tr>\n",
       "  </thead>\n",
       "  <tbody>\n",
       "    <tr>\n",
       "      <th>0</th>\n",
       "      <td>1</td>\n",
       "      <td>0</td>\n",
       "      <td>3</td>\n",
       "      <td>Braund, Mr. Owen Harris</td>\n",
       "      <td>male</td>\n",
       "      <td>22.000</td>\n",
       "      <td>1</td>\n",
       "      <td>0</td>\n",
       "      <td>A/5 21171</td>\n",
       "      <td>7.250</td>\n",
       "      <td>NaN</td>\n",
       "      <td>S</td>\n",
       "      <td>0</td>\n",
       "      <td>23</td>\n",
       "      <td>4</td>\n",
       "      <td>0</td>\n",
       "      <td>Mr</td>\n",
       "      <td>2</td>\n",
       "      <td>66.000</td>\n",
       "      <td>NO</td>\n",
       "      <td>mature</td>\n",
       "      <td>maturemale</td>\n",
       "    </tr>\n",
       "    <tr>\n",
       "      <th>1</th>\n",
       "      <td>2</td>\n",
       "      <td>1</td>\n",
       "      <td>1</td>\n",
       "      <td>Cumings, Mrs. John Bradley (Florence Briggs Th...</td>\n",
       "      <td>female</td>\n",
       "      <td>38.000</td>\n",
       "      <td>1</td>\n",
       "      <td>0</td>\n",
       "      <td>PC 17599</td>\n",
       "      <td>71.283</td>\n",
       "      <td>C85</td>\n",
       "      <td>C</td>\n",
       "      <td>1</td>\n",
       "      <td>51</td>\n",
       "      <td>7</td>\n",
       "      <td>0</td>\n",
       "      <td>Mrs</td>\n",
       "      <td>2</td>\n",
       "      <td>38.000</td>\n",
       "      <td>NO</td>\n",
       "      <td>mature</td>\n",
       "      <td>maturefemale</td>\n",
       "    </tr>\n",
       "    <tr>\n",
       "      <th>2</th>\n",
       "      <td>3</td>\n",
       "      <td>1</td>\n",
       "      <td>3</td>\n",
       "      <td>Heikkinen, Miss. Laina</td>\n",
       "      <td>female</td>\n",
       "      <td>26.000</td>\n",
       "      <td>0</td>\n",
       "      <td>0</td>\n",
       "      <td>STON/O2. 3101282</td>\n",
       "      <td>7.925</td>\n",
       "      <td>NaN</td>\n",
       "      <td>S</td>\n",
       "      <td>0</td>\n",
       "      <td>22</td>\n",
       "      <td>3</td>\n",
       "      <td>0</td>\n",
       "      <td>Miss</td>\n",
       "      <td>1</td>\n",
       "      <td>78.000</td>\n",
       "      <td>YES</td>\n",
       "      <td>mature</td>\n",
       "      <td>maturefemale</td>\n",
       "    </tr>\n",
       "    <tr>\n",
       "      <th>3</th>\n",
       "      <td>4</td>\n",
       "      <td>1</td>\n",
       "      <td>1</td>\n",
       "      <td>Futrelle, Mrs. Jacques Heath (Lily May Peel)</td>\n",
       "      <td>female</td>\n",
       "      <td>35.000</td>\n",
       "      <td>1</td>\n",
       "      <td>0</td>\n",
       "      <td>113803</td>\n",
       "      <td>53.100</td>\n",
       "      <td>C123</td>\n",
       "      <td>S</td>\n",
       "      <td>1</td>\n",
       "      <td>44</td>\n",
       "      <td>7</td>\n",
       "      <td>0</td>\n",
       "      <td>Mrs</td>\n",
       "      <td>2</td>\n",
       "      <td>35.000</td>\n",
       "      <td>NO</td>\n",
       "      <td>mature</td>\n",
       "      <td>maturefemale</td>\n",
       "    </tr>\n",
       "    <tr>\n",
       "      <th>4</th>\n",
       "      <td>5</td>\n",
       "      <td>0</td>\n",
       "      <td>3</td>\n",
       "      <td>Allen, Mr. William Henry</td>\n",
       "      <td>male</td>\n",
       "      <td>35.000</td>\n",
       "      <td>0</td>\n",
       "      <td>0</td>\n",
       "      <td>373450</td>\n",
       "      <td>8.050</td>\n",
       "      <td>NaN</td>\n",
       "      <td>S</td>\n",
       "      <td>0</td>\n",
       "      <td>24</td>\n",
       "      <td>4</td>\n",
       "      <td>0</td>\n",
       "      <td>Mr</td>\n",
       "      <td>1</td>\n",
       "      <td>105.000</td>\n",
       "      <td>YES</td>\n",
       "      <td>mature</td>\n",
       "      <td>maturemale</td>\n",
       "    </tr>\n",
       "  </tbody>\n",
       "</table>\n",
       "</div>"
      ],
      "text/plain": [
       "   PASSENGERID  SURVIVED  PCLASS                                               NAME     SEX    AGE  SIBSP  PARCH            TICKET   FARE CABIN EMBARKED  New_CABIN_BOOL  NEW_NAME_COUNT  NEW_NAME_WORD_COUNT  NEW_NAME_DR NEW_TITLE  NEW_FAMILY_SIZE  NEW_AGE_PCLASS NEW_IS_ALONE NEW_AGE_CAT   NEW_SEX_CAT\n",
       "0            1         0       3                            Braund, Mr. Owen Harris    male 22.000      1      0         A/5 21171  7.250   NaN        S               0              23                    4            0        Mr                2          66.000           NO      mature    maturemale\n",
       "1            2         1       1  Cumings, Mrs. John Bradley (Florence Briggs Th...  female 38.000      1      0          PC 17599 71.283   C85        C               1              51                    7            0       Mrs                2          38.000           NO      mature  maturefemale\n",
       "2            3         1       3                             Heikkinen, Miss. Laina  female 26.000      0      0  STON/O2. 3101282  7.925   NaN        S               0              22                    3            0      Miss                1          78.000          YES      mature  maturefemale\n",
       "3            4         1       1       Futrelle, Mrs. Jacques Heath (Lily May Peel)  female 35.000      1      0            113803 53.100  C123        S               1              44                    7            0       Mrs                2          35.000           NO      mature  maturefemale\n",
       "4            5         0       3                           Allen, Mr. William Henry    male 35.000      0      0            373450  8.050   NaN        S               0              24                    4            0        Mr                1         105.000          YES      mature    maturemale"
      ]
     },
     "execution_count": 18,
     "metadata": {},
     "output_type": "execute_result"
    }
   ],
   "source": [
    "df.head()"
   ]
  },
  {
   "cell_type": "code",
   "execution_count": 19,
   "id": "dee1c57d",
   "metadata": {
    "execution": {
     "iopub.execute_input": "2023-07-16T13:31:34.104274Z",
     "iopub.status.busy": "2023-07-16T13:31:34.103883Z",
     "iopub.status.idle": "2023-07-16T13:31:34.116267Z",
     "shell.execute_reply": "2023-07-16T13:31:34.115099Z"
    },
    "papermill": {
     "duration": 0.049715,
     "end_time": "2023-07-16T13:31:34.118887",
     "exception": false,
     "start_time": "2023-07-16T13:31:34.069172",
     "status": "completed"
    },
    "tags": []
   },
   "outputs": [],
   "source": [
    "# Analysis of Variables.\n",
    "\n",
    "def grab_col_names(dataframe, cat_th=10, car_th=20):\n",
    "    \"\"\"\n",
    "\n",
    "    Returns the names of categorical, numeric and categorical but cardinal variables in the data set.\n",
    "    Note Categorical variables include categorical variables with numeric appearance.\n",
    "\n",
    "    Parameters\n",
    "    ------\n",
    "        dataframe: dataframe\n",
    "                Variable names of the dataframe to be taken\n",
    "        cat_th: int, optional\n",
    "                class threshold for numeric but categorical variables\n",
    "        car_th: int, optinal\n",
    "                class threshold for categorical but cardinal variables\n",
    "\n",
    "    Returns\n",
    "    ------\n",
    "        cat_cols: list\n",
    "                Categorical variable list\n",
    "        num_cols: list\n",
    "                Numeric variable list\n",
    "        cat_but_car: list\n",
    "                List of cardinal variables with categorical appearance\n",
    "\n",
    "    Examples\n",
    "    ------\n",
    "        import seaborn as sns\n",
    "        df = sns.load_dataset(\"iris\")\n",
    "        print(grab_col_names(df))\n",
    "\n",
    "\n",
    "    Notes\n",
    "    ------\n",
    "        cat_cols + num_cols + cat_but_car = total number of variables\n",
    "        num_but_cat is inside cat_cols.\n",
    "        The sum of the 3 return lists equals the total number of variables: cat_cols + num_cols + cat_but_car = number of variables\n",
    "\n",
    "    \"\"\"\n",
    "\n",
    "    # cat_cols, cat_but_car\n",
    "    cat_cols = [col for col in dataframe.columns if dataframe[col].dtypes == \"O\"] \n",
    "\n",
    "    num_but_cat = [col for col in dataframe.columns if dataframe[col].nunique() < cat_th and\n",
    "                   dataframe[col].dtypes != \"O\"]\n",
    "\n",
    "    cat_but_car = [col for col in dataframe.columns if dataframe[col].nunique() > car_th and\n",
    "                   dataframe[col].dtypes == \"O\"]\n",
    "\n",
    "    cat_cols = cat_cols + num_but_cat\n",
    "\n",
    "    cat_cols = [col for col in cat_cols if col not in cat_but_car] \n",
    "\n",
    "    num_cols = [col for col in dataframe.columns if dataframe[col].dtypes != \"O\"] \n",
    "\n",
    "    num_cols = [col for col in num_cols if col not in num_but_cat] \n",
    "    \n",
    "    print(f\"Observations: {dataframe.shape[0]}\") # data frame in içerisindeki gözlem sayısına eriştik.\n",
    "    print(f\"Variables: {dataframe.shape[1]}\") # data frame in içerisindeki değişken sayısına eriştik.\n",
    "    print(f'cat_cols: {len(cat_cols)}') # kaçtane kategorik değişken olduğunu tespit ettik.\n",
    "    print(f'num_cols: {len(num_cols)}') # kaç tane nümerik değişken olduğunu tespit ettik.\n",
    "    print(f'cat_but_car: {len(cat_but_car)}') # kaç tane kardinal değişken olduğunu tespit ettik.\n",
    "    print(f'num_but_cat: {len(num_but_cat)}') # kaç tane numerik gibi görünüp kategorik olan değişken olduğunu belirledi\n",
    "\n",
    "\n",
    "    return cat_cols, num_cols, cat_but_car, num_but_cat"
   ]
  },
  {
   "cell_type": "code",
   "execution_count": 20,
   "id": "3f8b0c18",
   "metadata": {
    "execution": {
     "iopub.execute_input": "2023-07-16T13:31:34.189584Z",
     "iopub.status.busy": "2023-07-16T13:31:34.189197Z",
     "iopub.status.idle": "2023-07-16T13:31:34.207490Z",
     "shell.execute_reply": "2023-07-16T13:31:34.206217Z"
    },
    "papermill": {
     "duration": 0.055606,
     "end_time": "2023-07-16T13:31:34.209976",
     "exception": false,
     "start_time": "2023-07-16T13:31:34.154370",
     "status": "completed"
    },
    "tags": []
   },
   "outputs": [
    {
     "name": "stdout",
     "output_type": "stream",
     "text": [
      "Observations: 891\n",
      "Variables: 22\n",
      "cat_cols: 14\n",
      "num_cols: 5\n",
      "cat_but_car: 3\n",
      "num_but_cat: 8\n"
     ]
    }
   ],
   "source": [
    "cat_cols, num_cols, cat_but_car, num_but_cat = grab_col_names(df)"
   ]
  },
  {
   "cell_type": "code",
   "execution_count": 21,
   "id": "41c936f2",
   "metadata": {
    "execution": {
     "iopub.execute_input": "2023-07-16T13:31:34.279953Z",
     "iopub.status.busy": "2023-07-16T13:31:34.278646Z",
     "iopub.status.idle": "2023-07-16T13:31:34.286853Z",
     "shell.execute_reply": "2023-07-16T13:31:34.285768Z"
    },
    "papermill": {
     "duration": 0.045337,
     "end_time": "2023-07-16T13:31:34.289180",
     "exception": false,
     "start_time": "2023-07-16T13:31:34.243843",
     "status": "completed"
    },
    "tags": []
   },
   "outputs": [
    {
     "data": {
      "text/plain": [
       "['SEX',\n",
       " 'EMBARKED',\n",
       " 'NEW_TITLE',\n",
       " 'NEW_IS_ALONE',\n",
       " 'NEW_AGE_CAT',\n",
       " 'NEW_SEX_CAT',\n",
       " 'SURVIVED',\n",
       " 'PCLASS',\n",
       " 'SIBSP',\n",
       " 'PARCH',\n",
       " 'New_CABIN_BOOL',\n",
       " 'NEW_NAME_WORD_COUNT',\n",
       " 'NEW_NAME_DR',\n",
       " 'NEW_FAMILY_SIZE']"
      ]
     },
     "execution_count": 21,
     "metadata": {},
     "output_type": "execute_result"
    }
   ],
   "source": [
    "cat_cols"
   ]
  },
  {
   "cell_type": "code",
   "execution_count": 22,
   "id": "33c09dc8",
   "metadata": {
    "execution": {
     "iopub.execute_input": "2023-07-16T13:31:34.358642Z",
     "iopub.status.busy": "2023-07-16T13:31:34.357554Z",
     "iopub.status.idle": "2023-07-16T13:31:34.364681Z",
     "shell.execute_reply": "2023-07-16T13:31:34.363779Z"
    },
    "papermill": {
     "duration": 0.044012,
     "end_time": "2023-07-16T13:31:34.366806",
     "exception": false,
     "start_time": "2023-07-16T13:31:34.322794",
     "status": "completed"
    },
    "tags": []
   },
   "outputs": [
    {
     "data": {
      "text/plain": [
       "['PASSENGERID', 'AGE', 'FARE', 'NEW_NAME_COUNT', 'NEW_AGE_PCLASS']"
      ]
     },
     "execution_count": 22,
     "metadata": {},
     "output_type": "execute_result"
    }
   ],
   "source": [
    "num_cols"
   ]
  },
  {
   "cell_type": "code",
   "execution_count": 23,
   "id": "2909a2d9",
   "metadata": {
    "execution": {
     "iopub.execute_input": "2023-07-16T13:31:34.435896Z",
     "iopub.status.busy": "2023-07-16T13:31:34.435099Z",
     "iopub.status.idle": "2023-07-16T13:31:34.440601Z",
     "shell.execute_reply": "2023-07-16T13:31:34.439457Z"
    },
    "papermill": {
     "duration": 0.042686,
     "end_time": "2023-07-16T13:31:34.442897",
     "exception": false,
     "start_time": "2023-07-16T13:31:34.400211",
     "status": "completed"
    },
    "tags": []
   },
   "outputs": [],
   "source": [
    "num_cols = [col for col in num_cols if \"PASSENGERID\" not in col]"
   ]
  },
  {
   "cell_type": "code",
   "execution_count": 24,
   "id": "c6d43ec8",
   "metadata": {
    "execution": {
     "iopub.execute_input": "2023-07-16T13:31:34.514540Z",
     "iopub.status.busy": "2023-07-16T13:31:34.513774Z",
     "iopub.status.idle": "2023-07-16T13:31:34.519515Z",
     "shell.execute_reply": "2023-07-16T13:31:34.518775Z"
    },
    "papermill": {
     "duration": 0.045004,
     "end_time": "2023-07-16T13:31:34.521793",
     "exception": false,
     "start_time": "2023-07-16T13:31:34.476789",
     "status": "completed"
    },
    "tags": []
   },
   "outputs": [
    {
     "data": {
      "text/plain": [
       "['NAME', 'TICKET', 'CABIN']"
      ]
     },
     "execution_count": 24,
     "metadata": {},
     "output_type": "execute_result"
    }
   ],
   "source": [
    "cat_but_car"
   ]
  },
  {
   "cell_type": "code",
   "execution_count": 25,
   "id": "7634350f",
   "metadata": {
    "execution": {
     "iopub.execute_input": "2023-07-16T13:31:34.592994Z",
     "iopub.status.busy": "2023-07-16T13:31:34.592226Z",
     "iopub.status.idle": "2023-07-16T13:31:34.598736Z",
     "shell.execute_reply": "2023-07-16T13:31:34.597562Z"
    },
    "papermill": {
     "duration": 0.044942,
     "end_time": "2023-07-16T13:31:34.601113",
     "exception": false,
     "start_time": "2023-07-16T13:31:34.556171",
     "status": "completed"
    },
    "tags": []
   },
   "outputs": [
    {
     "data": {
      "text/plain": [
       "['SURVIVED',\n",
       " 'PCLASS',\n",
       " 'SIBSP',\n",
       " 'PARCH',\n",
       " 'New_CABIN_BOOL',\n",
       " 'NEW_NAME_WORD_COUNT',\n",
       " 'NEW_NAME_DR',\n",
       " 'NEW_FAMILY_SIZE']"
      ]
     },
     "execution_count": 25,
     "metadata": {},
     "output_type": "execute_result"
    }
   ],
   "source": [
    "num_but_cat"
   ]
  },
  {
   "cell_type": "code",
   "execution_count": 26,
   "id": "e430b085",
   "metadata": {
    "execution": {
     "iopub.execute_input": "2023-07-16T13:31:34.670595Z",
     "iopub.status.busy": "2023-07-16T13:31:34.670193Z",
     "iopub.status.idle": "2023-07-16T13:31:34.680289Z",
     "shell.execute_reply": "2023-07-16T13:31:34.679169Z"
    },
    "papermill": {
     "duration": 0.047471,
     "end_time": "2023-07-16T13:31:34.682397",
     "exception": false,
     "start_time": "2023-07-16T13:31:34.634926",
     "status": "completed"
    },
    "tags": []
   },
   "outputs": [],
   "source": [
    "# Categorical Summary Function\n",
    "\n",
    "def cat_summary(dataframe, col_name, plot=False):\n",
    "    if dataframe[col_name].dtypes == \"bool\":\n",
    "        dataframe[col_name] = dataframe[col_name].astype(int)\n",
    "\n",
    "        print(pd.DataFrame({col_name: dataframe[col_name].value_counts(),\n",
    "                            \"Ratio\": 100 * dataframe[col_name].value_counts() / len(dataframe)}))\n",
    "        print(\"##########################################\")\n",
    "\n",
    "        if plot:\n",
    "            sns.countplot(x=dataframe[col_name], data=dataframe)\n",
    "            plt.show(block=True)\n",
    "    else:\n",
    "        print(pd.DataFrame({col_name: dataframe[col_name].value_counts(),\n",
    "                            \"Ratio\": 100 * dataframe[col_name].value_counts() / len(dataframe)}))\n",
    "        print(\"##########################################\")\n",
    "\n",
    "        if plot:\n",
    "            sns.countplot(x=dataframe[col_name], data=dataframe)\n",
    "            plt.show(block=True)"
   ]
  },
  {
   "cell_type": "code",
   "execution_count": 27,
   "id": "da40ffc7",
   "metadata": {
    "execution": {
     "iopub.execute_input": "2023-07-16T13:31:34.751715Z",
     "iopub.status.busy": "2023-07-16T13:31:34.751288Z",
     "iopub.status.idle": "2023-07-16T13:31:38.128161Z",
     "shell.execute_reply": "2023-07-16T13:31:38.126951Z"
    },
    "papermill": {
     "duration": 3.414668,
     "end_time": "2023-07-16T13:31:38.130807",
     "exception": false,
     "start_time": "2023-07-16T13:31:34.716139",
     "status": "completed"
    },
    "tags": []
   },
   "outputs": [
    {
     "name": "stdout",
     "output_type": "stream",
     "text": [
      "        SEX  Ratio\n",
      "male    577 64.759\n",
      "female  314 35.241\n",
      "##########################################\n"
     ]
    },
    {
     "data": {
      "image/png": "[encoded data removed]",
      "text/plain": [
       "<Figure size 640x480 with 1 Axes>"
      ]
     },
     "metadata": {},
     "output_type": "display_data"
    },
    {
     "name": "stdout",
     "output_type": "stream",
     "text": [
      "   EMBARKED  Ratio\n",
      "S       644 72.278\n",
      "C       168 18.855\n",
      "Q        77  8.642\n",
      "##########################################\n"
     ]
    },
    {
     "data": {
      "image/png": "[encoded data removed]",
      "text/plain": [
       "<Figure size 640x480 with 1 Axes>"
      ]
     },
     "metadata": {},
     "output_type": "display_data"
    },
    {
     "name": "stdout",
     "output_type": "stream",
     "text": [
      "          NEW_TITLE  Ratio\n",
      "Mr              517 58.025\n",
      "Miss            182 20.426\n",
      "Mrs             125 14.029\n",
      "Master           40  4.489\n",
      "Dr                7  0.786\n",
      "Rev               6  0.673\n",
      "Mlle              2  0.224\n",
      "Major             2  0.224\n",
      "Col               2  0.224\n",
      "Countess          1  0.112\n",
      "Capt              1  0.112\n",
      "Ms                1  0.112\n",
      "Sir               1  0.112\n",
      "Lady              1  0.112\n",
      "Mme               1  0.112\n",
      "Don               1  0.112\n",
      "Jonkheer          1  0.112\n",
      "##########################################\n"
     ]
    },
    {
     "data": {
      "image/png": "[encoded data removed]",
      "text/plain": [
       "<Figure size 640x480 with 1 Axes>"
      ]
     },
     "metadata": {},
     "output_type": "display_data"
    },
    {
     "name": "stdout",
     "output_type": "stream",
     "text": [
      "     NEW_IS_ALONE  Ratio\n",
      "YES           537 60.269\n",
      "NO            354 39.731\n",
      "##########################################\n"
     ]
    },
    {
     "data": {
      "image/png": "[encoded data removed]",
      "text/plain": [
       "<Figure size 640x480 with 1 Axes>"
      ]
     },
     "metadata": {},
     "output_type": "display_data"
    },
    {
     "name": "stdout",
     "output_type": "stream",
     "text": [
      "        NEW_AGE_CAT  Ratio\n",
      "mature          562 63.075\n",
      "young           113 12.682\n",
      "senior           39  4.377\n",
      "##########################################\n"
     ]
    },
    {
     "data": {
      "image/png": "[encoded data removed]",
      "text/plain": [
       "<Figure size 640x480 with 1 Axes>"
      ]
     },
     "metadata": {},
     "output_type": "display_data"
    },
    {
     "name": "stdout",
     "output_type": "stream",
     "text": [
      "              NEW_SEX_CAT  Ratio\n",
      "maturemale            530 59.484\n",
      "maturefemale          297 33.333\n",
      "seniormale             47  5.275\n",
      "seniorfemale           17  1.908\n",
      "##########################################\n"
     ]
    },
    {
     "data": {
      "image/png": "[encoded data removed]",
      "text/plain": [
       "<Figure size 640x480 with 1 Axes>"
      ]
     },
     "metadata": {},
     "output_type": "display_data"
    },
    {
     "name": "stdout",
     "output_type": "stream",
     "text": [
      "   SURVIVED  Ratio\n",
      "0       549 61.616\n",
      "1       342 38.384\n",
      "##########################################\n"
     ]
    },
    {
     "data": {
      "image/png": "[encoded data removed]",
      "text/plain": [
       "<Figure size 640x480 with 1 Axes>"
      ]
     },
     "metadata": {},
     "output_type": "display_data"
    },
    {
     "name": "stdout",
     "output_type": "stream",
     "text": [
      "   PCLASS  Ratio\n",
      "3     491 55.107\n",
      "1     216 24.242\n",
      "2     184 20.651\n",
      "##########################################\n"
     ]
    },
    {
     "data": {
      "image/png": "[encoded data removed]",
      "text/plain": [
       "<Figure size 640x480 with 1 Axes>"
      ]
     },
     "metadata": {},
     "output_type": "display_data"
    },
    {
     "name": "stdout",
     "output_type": "stream",
     "text": [
      "   SIBSP  Ratio\n",
      "0    608 68.238\n",
      "1    209 23.457\n",
      "2     28  3.143\n",
      "4     18  2.020\n",
      "3     16  1.796\n",
      "8      7  0.786\n",
      "5      5  0.561\n",
      "##########################################\n"
     ]
    },
    {
     "data": {
      "image/png": "[encoded data removed]",
      "text/plain": [
       "<Figure size 640x480 with 1 Axes>"
      ]
     },
     "metadata": {},
     "output_type": "display_data"
    },
    {
     "name": "stdout",
     "output_type": "stream",
     "text": [
      "   PARCH  Ratio\n",
      "0    678 76.094\n",
      "1    118 13.244\n",
      "2     80  8.979\n",
      "5      5  0.561\n",
      "3      5  0.561\n",
      "4      4  0.449\n",
      "6      1  0.112\n",
      "##########################################\n"
     ]
    },
    {
     "data": {
      "image/png": "[encoded data removed]",
      "text/plain": [
       "<Figure size 640x480 with 1 Axes>"
      ]
     },
     "metadata": {},
     "output_type": "display_data"
    },
    {
     "name": "stdout",
     "output_type": "stream",
     "text": [
      "   New_CABIN_BOOL  Ratio\n",
      "0             687 77.104\n",
      "1             204 22.896\n",
      "##########################################\n"
     ]
    },
    {
     "data": {
      "image/png": "[encoded data removed]",
      "text/plain": [
       "<Figure size 640x480 with 1 Axes>"
      ]
     },
     "metadata": {},
     "output_type": "display_data"
    },
    {
     "name": "stdout",
     "output_type": "stream",
     "text": [
      "    NEW_NAME_WORD_COUNT  Ratio\n",
      "4                   388 43.547\n",
      "3                   305 34.231\n",
      "5                    96 10.774\n",
      "6                    53  5.948\n",
      "7                    38  4.265\n",
      "8                     9  1.010\n",
      "14                    1  0.112\n",
      "9                     1  0.112\n",
      "##########################################\n"
     ]
    },
    {
     "data": {
      "image/png": "[encoded data removed]",
      "text/plain": [
       "<Figure size 640x480 with 1 Axes>"
      ]
     },
     "metadata": {},
     "output_type": "display_data"
    },
    {
     "name": "stdout",
     "output_type": "stream",
     "text": [
      "   NEW_NAME_DR  Ratio\n",
      "0          881 98.878\n",
      "1           10  1.122\n",
      "##########################################\n"
     ]
    },
    {
     "data": {
      "image/png": "[encoded data removed]",
      "text/plain": [
       "<Figure size 640x480 with 1 Axes>"
      ]
     },
     "metadata": {},
     "output_type": "display_data"
    },
    {
     "name": "stdout",
     "output_type": "stream",
     "text": [
      "    NEW_FAMILY_SIZE  Ratio\n",
      "1               537 60.269\n",
      "2               161 18.070\n",
      "3               102 11.448\n",
      "4                29  3.255\n",
      "6                22  2.469\n",
      "5                15  1.684\n",
      "7                12  1.347\n",
      "11                7  0.786\n",
      "8                 6  0.673\n",
      "##########################################\n"
     ]
    },
    {
     "data": {
      "image/png": "[encoded data removed]",
      "text/plain": [
       "<Figure size 640x480 with 1 Axes>"
      ]
     },
     "metadata": {},
     "output_type": "display_data"
    }
   ],
   "source": [
    "for col in cat_cols:\n",
    "    cat_summary(df, col, plot=True)"
   ]
  },
  {
   "cell_type": "code",
   "execution_count": 28,
   "id": "b1a04cb8",
   "metadata": {
    "execution": {
     "iopub.execute_input": "2023-07-16T13:31:38.215901Z",
     "iopub.status.busy": "2023-07-16T13:31:38.214556Z",
     "iopub.status.idle": "2023-07-16T13:31:38.222324Z",
     "shell.execute_reply": "2023-07-16T13:31:38.221186Z"
    },
    "papermill": {
     "duration": 0.052126,
     "end_time": "2023-07-16T13:31:38.225133",
     "exception": false,
     "start_time": "2023-07-16T13:31:38.173007",
     "status": "completed"
    },
    "tags": []
   },
   "outputs": [],
   "source": [
    "# Numerical Summary Function\n",
    "\n",
    "def num_summary(dataframe, numerical_col, plot=False):\n",
    "    quantiles = [0.05, 0.10, 0.20, 0.30, 0.40, 0.50, 0.60, 0.70, 0.80, 0.90, 0.95, 0.99]\n",
    "    print(dataframe[numerical_col].describe(quantiles).T)\n",
    "\n",
    "    if plot:\n",
    "        dataframe[numerical_col].hist()\n",
    "        plt.xlabel(numerical_col)\n",
    "        plt.title(numerical_col)\n",
    "        plt.show(block=True)"
   ]
  },
  {
   "cell_type": "code",
   "execution_count": 29,
   "id": "e32b48f0",
   "metadata": {
    "execution": {
     "iopub.execute_input": "2023-07-16T13:31:38.307683Z",
     "iopub.status.busy": "2023-07-16T13:31:38.307231Z",
     "iopub.status.idle": "2023-07-16T13:31:39.728430Z",
     "shell.execute_reply": "2023-07-16T13:31:39.727244Z"
    },
    "papermill": {
     "duration": 1.465641,
     "end_time": "2023-07-16T13:31:39.731091",
     "exception": false,
     "start_time": "2023-07-16T13:31:38.265450",
     "status": "completed"
    },
    "tags": []
   },
   "outputs": [
    {
     "name": "stdout",
     "output_type": "stream",
     "text": [
      "count   714.000\n",
      "mean     29.699\n",
      "std      14.526\n",
      "min       0.420\n",
      "5%        4.000\n",
      "10%      14.000\n",
      "20%      19.000\n",
      "30%      22.000\n",
      "40%      25.000\n",
      "50%      28.000\n",
      "60%      31.800\n",
      "70%      36.000\n",
      "80%      41.000\n",
      "90%      50.000\n",
      "95%      56.000\n",
      "99%      65.870\n",
      "max      80.000\n",
      "Name: AGE, dtype: float64\n"
     ]
    },
    {
     "data": {
      "image/png": "[encoded data removed]",
      "text/plain": [
       "<Figure size 640x480 with 1 Axes>"
      ]
     },
     "metadata": {},
     "output_type": "display_data"
    },
    {
     "name": "stdout",
     "output_type": "stream",
     "text": [
      "count   891.000\n",
      "mean     32.204\n",
      "std      49.693\n",
      "min       0.000\n",
      "5%        7.225\n",
      "10%       7.550\n",
      "20%       7.854\n",
      "30%       8.050\n",
      "40%      10.500\n",
      "50%      14.454\n",
      "60%      21.679\n",
      "70%      27.000\n",
      "80%      39.688\n",
      "90%      77.958\n",
      "95%     112.079\n",
      "99%     249.006\n",
      "max     512.329\n",
      "Name: FARE, dtype: float64\n"
     ]
    },
    {
     "data": {
      "image/png": "[encoded data removed]",
      "text/plain": [
       "<Figure size 640x480 with 1 Axes>"
      ]
     },
     "metadata": {},
     "output_type": "display_data"
    },
    {
     "name": "stdout",
     "output_type": "stream",
     "text": [
      "count   891.000\n",
      "mean     26.965\n",
      "std       9.282\n",
      "min      12.000\n",
      "5%       16.000\n",
      "10%      17.000\n",
      "20%      19.000\n",
      "30%      21.000\n",
      "40%      23.000\n",
      "50%      25.000\n",
      "60%      27.000\n",
      "70%      29.000\n",
      "80%      32.000\n",
      "90%      41.000\n",
      "95%      47.000\n",
      "99%      55.100\n",
      "max      82.000\n",
      "Name: NEW_NAME_COUNT, dtype: float64\n"
     ]
    },
    {
     "data": {
      "image/png": "[encoded data removed]",
      "text/plain": [
       "<Figure size 640x480 with 1 Axes>"
      ]
     },
     "metadata": {},
     "output_type": "display_data"
    },
    {
     "name": "stdout",
     "output_type": "stream",
     "text": [
      "count   714.000\n",
      "mean     61.938\n",
      "std      34.380\n",
      "min       0.920\n",
      "5%       12.000\n",
      "10%      21.000\n",
      "20%      34.600\n",
      "30%      44.900\n",
      "40%      51.000\n",
      "50%      58.000\n",
      "60%      65.000\n",
      "70%      75.000\n",
      "80%      87.000\n",
      "90%     108.000\n",
      "95%     124.700\n",
      "99%     153.000\n",
      "max     222.000\n",
      "Name: NEW_AGE_PCLASS, dtype: float64\n"
     ]
    },
    {
     "data": {
      "image/png": "[encoded data removed]",
      "text/plain": [
       "<Figure size 640x480 with 1 Axes>"
      ]
     },
     "metadata": {},
     "output_type": "display_data"
    }
   ],
   "source": [
    "for col in num_cols:\n",
    "    num_summary(df, col, plot=True)"
   ]
  },
  {
   "cell_type": "markdown",
   "id": "71e7b338",
   "metadata": {
    "papermill": {
     "duration": 0.04106,
     "end_time": "2023-07-16T13:31:39.813862",
     "exception": false,
     "start_time": "2023-07-16T13:31:39.772802",
     "status": "completed"
    },
    "tags": []
   },
   "source": [
    "# 6. Outliers"
   ]
  },
  {
   "cell_type": "code",
   "execution_count": 30,
   "id": "9af6ba4a",
   "metadata": {
    "execution": {
     "iopub.execute_input": "2023-07-16T13:31:39.899079Z",
     "iopub.status.busy": "2023-07-16T13:31:39.898646Z",
     "iopub.status.idle": "2023-07-16T13:31:39.905709Z",
     "shell.execute_reply": "2023-07-16T13:31:39.904443Z"
    },
    "papermill": {
     "duration": 0.052505,
     "end_time": "2023-07-16T13:31:39.908084",
     "exception": false,
     "start_time": "2023-07-16T13:31:39.855579",
     "status": "completed"
    },
    "tags": []
   },
   "outputs": [],
   "source": [
    "# Outlier Threshold Calculation Function\n",
    "\n",
    "def outlier_thresholds(dataframe, col_name, q1=0.05, q3=0.95):\n",
    "    quartile1 = dataframe[col_name].quantile(q1)\n",
    "    quartile3 = dataframe[col_name].quantile(q3)\n",
    "    interquantile_range = quartile3 - quartile1\n",
    "    up_limit = quartile3 + 1.5 * interquantile_range\n",
    "    low_limit = quartile1 - 1.5 * interquantile_range\n",
    "    return low_limit, up_limit"
   ]
  },
  {
   "cell_type": "code",
   "execution_count": 31,
   "id": "c43894ed",
   "metadata": {
    "execution": {
     "iopub.execute_input": "2023-07-16T13:31:39.994457Z",
     "iopub.status.busy": "2023-07-16T13:31:39.994027Z",
     "iopub.status.idle": "2023-07-16T13:31:40.000892Z",
     "shell.execute_reply": "2023-07-16T13:31:39.999468Z"
    },
    "papermill": {
     "duration": 0.052885,
     "end_time": "2023-07-16T13:31:40.003508",
     "exception": false,
     "start_time": "2023-07-16T13:31:39.950623",
     "status": "completed"
    },
    "tags": []
   },
   "outputs": [],
   "source": [
    "# Outlier Check Function\n",
    "\n",
    "def check_outlier(dataframe, col_name):\n",
    "    low_limit, up_limit = outlier_thresholds(dataframe, col_name)\n",
    "    if dataframe[(dataframe[col_name] > up_limit) | (dataframe[col_name] < low_limit)].any(axis=None):\n",
    "        return True\n",
    "    else:\n",
    "        return False"
   ]
  },
  {
   "cell_type": "code",
   "execution_count": 32,
   "id": "fc34bbc4",
   "metadata": {
    "execution": {
     "iopub.execute_input": "2023-07-16T13:31:40.089679Z",
     "iopub.status.busy": "2023-07-16T13:31:40.089267Z",
     "iopub.status.idle": "2023-07-16T13:31:40.095331Z",
     "shell.execute_reply": "2023-07-16T13:31:40.094148Z"
    },
    "papermill": {
     "duration": 0.051807,
     "end_time": "2023-07-16T13:31:40.097765",
     "exception": false,
     "start_time": "2023-07-16T13:31:40.045958",
     "status": "completed"
    },
    "tags": []
   },
   "outputs": [],
   "source": [
    "# Replace Outliers with Thresholds\n",
    "\n",
    "def replace_with_thresholds(dataframe, variable):\n",
    "    low_limit, up_limit = outlier_thresholds(dataframe, variable)\n",
    "    dataframe.loc[(dataframe[variable] < low_limit), variable] = low_limit\n",
    "    dataframe.loc[(dataframe[variable] > up_limit), variable] = up_limit"
   ]
  },
  {
   "cell_type": "code",
   "execution_count": 33,
   "id": "227631f4",
   "metadata": {
    "execution": {
     "iopub.execute_input": "2023-07-16T13:31:40.185042Z",
     "iopub.status.busy": "2023-07-16T13:31:40.184621Z",
     "iopub.status.idle": "2023-07-16T13:31:40.189794Z",
     "shell.execute_reply": "2023-07-16T13:31:40.188890Z"
    },
    "papermill": {
     "duration": 0.052032,
     "end_time": "2023-07-16T13:31:40.191847",
     "exception": false,
     "start_time": "2023-07-16T13:31:40.139815",
     "status": "completed"
    },
    "tags": []
   },
   "outputs": [],
   "source": [
    "# Visualizing Outliers in a Boxplot\n",
    "\n",
    "def boxplot_outliers(dataframe, col_name):\n",
    "    plt.figure(figsize=(5, 5))\n",
    "    sns.boxplot(x=dataframe[col_name])\n",
    "    plt.show(block=True)"
   ]
  },
  {
   "cell_type": "code",
   "execution_count": 34,
   "id": "4af29aa7",
   "metadata": {
    "execution": {
     "iopub.execute_input": "2023-07-16T13:31:40.277492Z",
     "iopub.status.busy": "2023-07-16T13:31:40.277039Z",
     "iopub.status.idle": "2023-07-16T13:31:40.303004Z",
     "shell.execute_reply": "2023-07-16T13:31:40.301016Z"
    },
    "papermill": {
     "duration": 0.072033,
     "end_time": "2023-07-16T13:31:40.305548",
     "exception": false,
     "start_time": "2023-07-16T13:31:40.233515",
     "status": "completed"
    },
    "tags": []
   },
   "outputs": [
    {
     "name": "stdout",
     "output_type": "stream",
     "text": [
      "AGE False\n",
      "FARE True\n",
      "NEW_NAME_COUNT False\n",
      "NEW_AGE_PCLASS False\n"
     ]
    }
   ],
   "source": [
    "for col in num_cols:\n",
    "    print(col, check_outlier(df, col))"
   ]
  },
  {
   "cell_type": "code",
   "execution_count": 35,
   "id": "6d3e42b0",
   "metadata": {
    "execution": {
     "iopub.execute_input": "2023-07-16T13:31:40.392688Z",
     "iopub.status.busy": "2023-07-16T13:31:40.392232Z",
     "iopub.status.idle": "2023-07-16T13:31:40.413047Z",
     "shell.execute_reply": "2023-07-16T13:31:40.411643Z"
    },
    "papermill": {
     "duration": 0.067614,
     "end_time": "2023-07-16T13:31:40.415628",
     "exception": false,
     "start_time": "2023-07-16T13:31:40.348014",
     "status": "completed"
    },
    "tags": []
   },
   "outputs": [
    {
     "name": "stdout",
     "output_type": "stream",
     "text": [
      "AGE None\n",
      "FARE None\n",
      "NEW_NAME_COUNT None\n",
      "NEW_AGE_PCLASS None\n"
     ]
    }
   ],
   "source": [
    "for col in num_cols:\n",
    "    print(col, replace_with_thresholds(df, col))"
   ]
  },
  {
   "cell_type": "code",
   "execution_count": 36,
   "id": "e1ecacb0",
   "metadata": {
    "execution": {
     "iopub.execute_input": "2023-07-16T13:31:40.503439Z",
     "iopub.status.busy": "2023-07-16T13:31:40.503020Z",
     "iopub.status.idle": "2023-07-16T13:31:40.527510Z",
     "shell.execute_reply": "2023-07-16T13:31:40.526303Z"
    },
    "papermill": {
     "duration": 0.072534,
     "end_time": "2023-07-16T13:31:40.530555",
     "exception": false,
     "start_time": "2023-07-16T13:31:40.458021",
     "status": "completed"
    },
    "tags": []
   },
   "outputs": [
    {
     "name": "stdout",
     "output_type": "stream",
     "text": [
      "AGE False\n",
      "FARE False\n",
      "NEW_NAME_COUNT False\n",
      "NEW_AGE_PCLASS False\n"
     ]
    }
   ],
   "source": [
    "for col in num_cols:\n",
    "    print(col, check_outlier(df, col))"
   ]
  },
  {
   "cell_type": "code",
   "execution_count": 37,
   "id": "d53e36b5",
   "metadata": {
    "execution": {
     "iopub.execute_input": "2023-07-16T13:31:40.619310Z",
     "iopub.status.busy": "2023-07-16T13:31:40.618905Z",
     "iopub.status.idle": "2023-07-16T13:31:41.417132Z",
     "shell.execute_reply": "2023-07-16T13:31:41.415846Z"
    },
    "papermill": {
     "duration": 0.845916,
     "end_time": "2023-07-16T13:31:41.420442",
     "exception": false,
     "start_time": "2023-07-16T13:31:40.574526",
     "status": "completed"
    },
    "tags": []
   },
   "outputs": [
    {
     "data": {
      "image/png": "[encoded data removed]",
      "text/plain": [
       "<Figure size 500x500 with 1 Axes>"
      ]
     },
     "metadata": {},
     "output_type": "display_data"
    },
    {
     "name": "stdout",
     "output_type": "stream",
     "text": [
      "AGE None\n"
     ]
    },
    {
     "data": {
      "image/png": "[encoded data removed]",
      "text/plain": [
       "<Figure size 500x500 with 1 Axes>"
      ]
     },
     "metadata": {},
     "output_type": "display_data"
    },
    {
     "name": "stdout",
     "output_type": "stream",
     "text": [
      "FARE None\n"
     ]
    },
    {
     "data": {
      "image/png": "[encoded data removed]",
      "text/plain": [
       "<Figure size 500x500 with 1 Axes>"
      ]
     },
     "metadata": {},
     "output_type": "display_data"
    },
    {
     "name": "stdout",
     "output_type": "stream",
     "text": [
      "NEW_NAME_COUNT None\n"
     ]
    },
    {
     "data": {
      "image/png": "[encoded data removed]",
      "text/plain": [
       "<Figure size 500x500 with 1 Axes>"
      ]
     },
     "metadata": {},
     "output_type": "display_data"
    },
    {
     "name": "stdout",
     "output_type": "stream",
     "text": [
      "NEW_AGE_PCLASS None\n"
     ]
    }
   ],
   "source": [
    "for col in num_cols:\n",
    "    print(col, boxplot_outliers(df, col))"
   ]
  },
  {
   "cell_type": "markdown",
   "id": "3658e6ac",
   "metadata": {
    "papermill": {
     "duration": 0.043278,
     "end_time": "2023-07-16T13:31:41.507347",
     "exception": false,
     "start_time": "2023-07-16T13:31:41.464069",
     "status": "completed"
    },
    "tags": []
   },
   "source": [
    "# 7. Missing Values"
   ]
  },
  {
   "cell_type": "code",
   "execution_count": 38,
   "id": "ed9a3f76",
   "metadata": {
    "execution": {
     "iopub.execute_input": "2023-07-16T13:31:41.597941Z",
     "iopub.status.busy": "2023-07-16T13:31:41.597510Z",
     "iopub.status.idle": "2023-07-16T13:31:41.606003Z",
     "shell.execute_reply": "2023-07-16T13:31:41.604869Z"
    },
    "papermill": {
     "duration": 0.057245,
     "end_time": "2023-07-16T13:31:41.608497",
     "exception": false,
     "start_time": "2023-07-16T13:31:41.551252",
     "status": "completed"
    },
    "tags": []
   },
   "outputs": [],
   "source": [
    "# Analyzing Missing Values in a DataFrame\n",
    "\n",
    "def missing_values_table(dataframe, na_name=False):\n",
    "    na_columns = [col for col in dataframe.columns if dataframe[col].isnull().sum() > 0]\n",
    "\n",
    "    n_miss = dataframe[na_columns].isnull().sum().sort_values(ascending=False)\n",
    "    ratio = (dataframe[na_columns].isnull().sum() / dataframe.shape[0] * 100).sort_values(ascending=False)\n",
    "    missing_df = pd.concat([n_miss, np.round(ratio, 2)], axis=1, keys=['n_miss', 'ratio'])\n",
    "    print(missing_df, end='\\n')\n",
    "\n",
    "    if na_name:\n",
    "        return na_columns"
   ]
  },
  {
   "cell_type": "code",
   "execution_count": 39,
   "id": "d2edf293",
   "metadata": {
    "execution": {
     "iopub.execute_input": "2023-07-16T13:31:41.697772Z",
     "iopub.status.busy": "2023-07-16T13:31:41.697358Z",
     "iopub.status.idle": "2023-07-16T13:31:41.717259Z",
     "shell.execute_reply": "2023-07-16T13:31:41.716111Z"
    },
    "papermill": {
     "duration": 0.067478,
     "end_time": "2023-07-16T13:31:41.719576",
     "exception": false,
     "start_time": "2023-07-16T13:31:41.652098",
     "status": "completed"
    },
    "tags": []
   },
   "outputs": [
    {
     "name": "stdout",
     "output_type": "stream",
     "text": [
      "                n_miss  ratio\n",
      "CABIN              687 77.100\n",
      "AGE                177 19.870\n",
      "NEW_AGE_PCLASS     177 19.870\n",
      "NEW_AGE_CAT        177 19.870\n",
      "EMBARKED             2  0.220\n"
     ]
    }
   ],
   "source": [
    "missing_values_table(df, na_name=False)"
   ]
  },
  {
   "cell_type": "code",
   "execution_count": 40,
   "id": "31a3e178",
   "metadata": {
    "execution": {
     "iopub.execute_input": "2023-07-16T13:31:41.810233Z",
     "iopub.status.busy": "2023-07-16T13:31:41.809184Z",
     "iopub.status.idle": "2023-07-16T13:31:41.816915Z",
     "shell.execute_reply": "2023-07-16T13:31:41.815653Z"
    },
    "papermill": {
     "duration": 0.055497,
     "end_time": "2023-07-16T13:31:41.819374",
     "exception": false,
     "start_time": "2023-07-16T13:31:41.763877",
     "status": "completed"
    },
    "tags": []
   },
   "outputs": [],
   "source": [
    "df.drop(\"CABIN\", inplace=True, axis=1)"
   ]
  },
  {
   "cell_type": "code",
   "execution_count": 41,
   "id": "4f611c61",
   "metadata": {
    "execution": {
     "iopub.execute_input": "2023-07-16T13:31:41.909244Z",
     "iopub.status.busy": "2023-07-16T13:31:41.908181Z",
     "iopub.status.idle": "2023-07-16T13:31:41.927980Z",
     "shell.execute_reply": "2023-07-16T13:31:41.926795Z"
    },
    "papermill": {
     "duration": 0.067312,
     "end_time": "2023-07-16T13:31:41.930407",
     "exception": false,
     "start_time": "2023-07-16T13:31:41.863095",
     "status": "completed"
    },
    "tags": []
   },
   "outputs": [
    {
     "name": "stdout",
     "output_type": "stream",
     "text": [
      "                n_miss  ratio\n",
      "AGE                177 19.870\n",
      "NEW_AGE_PCLASS     177 19.870\n",
      "NEW_AGE_CAT        177 19.870\n",
      "EMBARKED             2  0.220\n"
     ]
    }
   ],
   "source": [
    "missing_values_table(df, na_name=False)"
   ]
  },
  {
   "cell_type": "code",
   "execution_count": 42,
   "id": "ddae9ac0",
   "metadata": {
    "execution": {
     "iopub.execute_input": "2023-07-16T13:31:42.024870Z",
     "iopub.status.busy": "2023-07-16T13:31:42.024173Z",
     "iopub.status.idle": "2023-07-16T13:31:42.028940Z",
     "shell.execute_reply": "2023-07-16T13:31:42.028140Z"
    },
    "papermill": {
     "duration": 0.056596,
     "end_time": "2023-07-16T13:31:42.031105",
     "exception": false,
     "start_time": "2023-07-16T13:31:41.974509",
     "status": "completed"
    },
    "tags": []
   },
   "outputs": [],
   "source": [
    "remove_cols = [\"TICKET\", \"NAME\"]"
   ]
  },
  {
   "cell_type": "code",
   "execution_count": 43,
   "id": "6f3f30dc",
   "metadata": {
    "execution": {
     "iopub.execute_input": "2023-07-16T13:31:42.123051Z",
     "iopub.status.busy": "2023-07-16T13:31:42.122323Z",
     "iopub.status.idle": "2023-07-16T13:31:42.128634Z",
     "shell.execute_reply": "2023-07-16T13:31:42.127800Z"
    },
    "papermill": {
     "duration": 0.054834,
     "end_time": "2023-07-16T13:31:42.130855",
     "exception": false,
     "start_time": "2023-07-16T13:31:42.076021",
     "status": "completed"
    },
    "tags": []
   },
   "outputs": [],
   "source": [
    "df.drop(remove_cols, inplace=True, axis=1)"
   ]
  },
  {
   "cell_type": "code",
   "execution_count": 44,
   "id": "a2d3478d",
   "metadata": {
    "execution": {
     "iopub.execute_input": "2023-07-16T13:31:42.238959Z",
     "iopub.status.busy": "2023-07-16T13:31:42.238249Z",
     "iopub.status.idle": "2023-07-16T13:31:42.261672Z",
     "shell.execute_reply": "2023-07-16T13:31:42.260428Z"
    },
    "papermill": {
     "duration": 0.086336,
     "end_time": "2023-07-16T13:31:42.264336",
     "exception": false,
     "start_time": "2023-07-16T13:31:42.178000",
     "status": "completed"
    },
    "tags": []
   },
   "outputs": [
    {
     "name": "stdout",
     "output_type": "stream",
     "text": [
      "                n_miss  ratio\n",
      "AGE                177 19.870\n",
      "NEW_AGE_PCLASS     177 19.870\n",
      "NEW_AGE_CAT        177 19.870\n",
      "EMBARKED             2  0.220\n"
     ]
    }
   ],
   "source": [
    "missing_values_table(df, na_name=False)"
   ]
  },
  {
   "cell_type": "code",
   "execution_count": 45,
   "id": "03c53520",
   "metadata": {
    "execution": {
     "iopub.execute_input": "2023-07-16T13:31:42.354982Z",
     "iopub.status.busy": "2023-07-16T13:31:42.354566Z",
     "iopub.status.idle": "2023-07-16T13:31:42.363734Z",
     "shell.execute_reply": "2023-07-16T13:31:42.362487Z"
    },
    "papermill": {
     "duration": 0.057683,
     "end_time": "2023-07-16T13:31:42.366367",
     "exception": false,
     "start_time": "2023-07-16T13:31:42.308684",
     "status": "completed"
    },
    "tags": []
   },
   "outputs": [],
   "source": [
    "df[\"AGE\"] = df[\"AGE\"].fillna(df.groupby(\"NEW_TITLE\")[\"AGE\"].transform(\"median\"))"
   ]
  },
  {
   "cell_type": "code",
   "execution_count": 46,
   "id": "8d9d67eb",
   "metadata": {
    "execution": {
     "iopub.execute_input": "2023-07-16T13:31:42.458392Z",
     "iopub.status.busy": "2023-07-16T13:31:42.457680Z",
     "iopub.status.idle": "2023-07-16T13:31:42.476936Z",
     "shell.execute_reply": "2023-07-16T13:31:42.475641Z"
    },
    "papermill": {
     "duration": 0.068168,
     "end_time": "2023-07-16T13:31:42.479493",
     "exception": false,
     "start_time": "2023-07-16T13:31:42.411325",
     "status": "completed"
    },
    "tags": []
   },
   "outputs": [
    {
     "name": "stdout",
     "output_type": "stream",
     "text": [
      "                n_miss  ratio\n",
      "NEW_AGE_PCLASS     177 19.870\n",
      "NEW_AGE_CAT        177 19.870\n",
      "EMBARKED             2  0.220\n"
     ]
    }
   ],
   "source": [
    "missing_values_table(df, na_name=False)"
   ]
  },
  {
   "cell_type": "code",
   "execution_count": 47,
   "id": "b9c59686",
   "metadata": {
    "execution": {
     "iopub.execute_input": "2023-07-16T13:31:42.571005Z",
     "iopub.status.busy": "2023-07-16T13:31:42.569673Z",
     "iopub.status.idle": "2023-07-16T13:31:42.576052Z",
     "shell.execute_reply": "2023-07-16T13:31:42.574940Z"
    },
    "papermill": {
     "duration": 0.054684,
     "end_time": "2023-07-16T13:31:42.578416",
     "exception": false,
     "start_time": "2023-07-16T13:31:42.523732",
     "status": "completed"
    },
    "tags": []
   },
   "outputs": [],
   "source": [
    "df[\"NEW_AGE_PCLASS\"] = df[\"AGE\"] * df[\"PCLASS\"]"
   ]
  },
  {
   "cell_type": "code",
   "execution_count": 48,
   "id": "e2ea53e2",
   "metadata": {
    "execution": {
     "iopub.execute_input": "2023-07-16T13:31:42.669071Z",
     "iopub.status.busy": "2023-07-16T13:31:42.668627Z",
     "iopub.status.idle": "2023-07-16T13:31:42.677599Z",
     "shell.execute_reply": "2023-07-16T13:31:42.676432Z"
    },
    "papermill": {
     "duration": 0.057393,
     "end_time": "2023-07-16T13:31:42.679936",
     "exception": false,
     "start_time": "2023-07-16T13:31:42.622543",
     "status": "completed"
    },
    "tags": []
   },
   "outputs": [],
   "source": [
    "df.loc[(df[\"AGE\"] < 18), \"NEW_AGE_CAT\"] = \"young\"\n",
    "df.loc[(df[\"AGE\"] >= 18) & (df[\"AGE\"] < 56), \"NEW_AGE_CAT\"] = \"mature\"\n",
    "df.loc[(df[\"AGE\"] >= 56), \"NEW_AGE_CAT\"] = \"senior\""
   ]
  },
  {
   "cell_type": "code",
   "execution_count": 49,
   "id": "68e845af",
   "metadata": {
    "execution": {
     "iopub.execute_input": "2023-07-16T13:31:42.771367Z",
     "iopub.status.busy": "2023-07-16T13:31:42.770951Z",
     "iopub.status.idle": "2023-07-16T13:31:42.788938Z",
     "shell.execute_reply": "2023-07-16T13:31:42.787512Z"
    },
    "papermill": {
     "duration": 0.066928,
     "end_time": "2023-07-16T13:31:42.791720",
     "exception": false,
     "start_time": "2023-07-16T13:31:42.724792",
     "status": "completed"
    },
    "tags": []
   },
   "outputs": [],
   "source": [
    "df.loc[(df[\"SEX\"] == \"male\") & (df[\"AGE\"] <= 21), \"NEW_SEX_CAT\"] = \"youngmale\"\n",
    "df.loc[(df[\"SEX\"] == \"male\") & ((df[\"AGE\"] > 21) & (df[\"AGE\"]) <= 50), \"NEW_SEX_CAT\"] = \"maturemale\"\n",
    "df.loc[(df[\"SEX\"] == \"male\") & (df[\"AGE\"] > 50), \"NEW_SEX_CAT\"] = \"seniormale\"\n",
    "df.loc[(df[\"SEX\"] == \"female\") & (df[\"AGE\"] <= 21), \"NEW_SEX_CAT\"] = \"youngfemale\"\n",
    "df.loc[(df[\"SEX\"] == \"female\") & ((df[\"AGE\"] > 21) & (df[\"AGE\"]) <= 50), \"NEW_SEX_CAT\"] = \"maturefemale\"\n",
    "df.loc[(df[\"SEX\"] == \"female\") & (df[\"AGE\"] > 50), \"NEW_SEX_CAT\"] = \"seniorfemale\""
   ]
  },
  {
   "cell_type": "code",
   "execution_count": 50,
   "id": "2348235c",
   "metadata": {
    "execution": {
     "iopub.execute_input": "2023-07-16T13:31:42.883210Z",
     "iopub.status.busy": "2023-07-16T13:31:42.882808Z",
     "iopub.status.idle": "2023-07-16T13:31:42.902727Z",
     "shell.execute_reply": "2023-07-16T13:31:42.901190Z"
    },
    "papermill": {
     "duration": 0.067856,
     "end_time": "2023-07-16T13:31:42.904980",
     "exception": false,
     "start_time": "2023-07-16T13:31:42.837124",
     "status": "completed"
    },
    "tags": []
   },
   "outputs": [
    {
     "name": "stdout",
     "output_type": "stream",
     "text": [
      "          n_miss  ratio\n",
      "EMBARKED       2  0.220\n"
     ]
    }
   ],
   "source": [
    "missing_values_table(df, na_name=False)"
   ]
  },
  {
   "cell_type": "code",
   "execution_count": 51,
   "id": "033021c6",
   "metadata": {
    "execution": {
     "iopub.execute_input": "2023-07-16T13:31:42.995222Z",
     "iopub.status.busy": "2023-07-16T13:31:42.994807Z",
     "iopub.status.idle": "2023-07-16T13:31:43.008739Z",
     "shell.execute_reply": "2023-07-16T13:31:43.007726Z"
    },
    "papermill": {
     "duration": 0.062244,
     "end_time": "2023-07-16T13:31:43.011456",
     "exception": false,
     "start_time": "2023-07-16T13:31:42.949212",
     "status": "completed"
    },
    "tags": []
   },
   "outputs": [],
   "source": [
    "df = df.apply(lambda x: x.fillna(x.mode()[0]) if (x.dtype == \"O\" and len(x.unique()) <= 10) else x, axis=0)"
   ]
  },
  {
   "cell_type": "code",
   "execution_count": 52,
   "id": "2bf8852e",
   "metadata": {
    "execution": {
     "iopub.execute_input": "2023-07-16T13:31:43.102610Z",
     "iopub.status.busy": "2023-07-16T13:31:43.101852Z",
     "iopub.status.idle": "2023-07-16T13:31:43.116983Z",
     "shell.execute_reply": "2023-07-16T13:31:43.115651Z"
    },
    "papermill": {
     "duration": 0.063447,
     "end_time": "2023-07-16T13:31:43.119544",
     "exception": false,
     "start_time": "2023-07-16T13:31:43.056097",
     "status": "completed"
    },
    "tags": []
   },
   "outputs": [
    {
     "name": "stdout",
     "output_type": "stream",
     "text": [
      "Empty DataFrame\n",
      "Columns: [n_miss, ratio]\n",
      "Index: []\n"
     ]
    }
   ],
   "source": [
    "missing_values_table(df, na_name=False)"
   ]
  },
  {
   "cell_type": "markdown",
   "id": "2af30f1a",
   "metadata": {
    "papermill": {
     "duration": 0.045907,
     "end_time": "2023-07-16T13:31:43.209728",
     "exception": false,
     "start_time": "2023-07-16T13:31:43.163821",
     "status": "completed"
    },
    "tags": []
   },
   "source": [
    "# 8. Label Encoding"
   ]
  },
  {
   "cell_type": "code",
   "execution_count": 53,
   "id": "545c58aa",
   "metadata": {
    "execution": {
     "iopub.execute_input": "2023-07-16T13:31:43.304772Z",
     "iopub.status.busy": "2023-07-16T13:31:43.303654Z",
     "iopub.status.idle": "2023-07-16T13:31:43.309445Z",
     "shell.execute_reply": "2023-07-16T13:31:43.308333Z"
    },
    "papermill": {
     "duration": 0.054552,
     "end_time": "2023-07-16T13:31:43.311997",
     "exception": false,
     "start_time": "2023-07-16T13:31:43.257445",
     "status": "completed"
    },
    "tags": []
   },
   "outputs": [],
   "source": [
    "# Label Encoding Function\n",
    "\n",
    "def label_encoder(dataframe, binary_col):\n",
    "    labelencoder = LabelEncoder()\n",
    "    dataframe[binary_col] = labelencoder.fit_transform(dataframe[binary_col])\n",
    "    return dataframe"
   ]
  },
  {
   "cell_type": "code",
   "execution_count": 54,
   "id": "7a9a509c",
   "metadata": {
    "execution": {
     "iopub.execute_input": "2023-07-16T13:31:43.403517Z",
     "iopub.status.busy": "2023-07-16T13:31:43.402316Z",
     "iopub.status.idle": "2023-07-16T13:31:43.409267Z",
     "shell.execute_reply": "2023-07-16T13:31:43.408248Z"
    },
    "papermill": {
     "duration": 0.054883,
     "end_time": "2023-07-16T13:31:43.411454",
     "exception": false,
     "start_time": "2023-07-16T13:31:43.356571",
     "status": "completed"
    },
    "tags": []
   },
   "outputs": [],
   "source": [
    "binary_cols = [col for col in df.columns if df[col].dtype not in [int, float] and df[col].nunique() == 2]"
   ]
  },
  {
   "cell_type": "code",
   "execution_count": 55,
   "id": "59cf857a",
   "metadata": {
    "execution": {
     "iopub.execute_input": "2023-07-16T13:31:43.503342Z",
     "iopub.status.busy": "2023-07-16T13:31:43.502495Z",
     "iopub.status.idle": "2023-07-16T13:31:43.509479Z",
     "shell.execute_reply": "2023-07-16T13:31:43.508352Z"
    },
    "papermill": {
     "duration": 0.056231,
     "end_time": "2023-07-16T13:31:43.511987",
     "exception": false,
     "start_time": "2023-07-16T13:31:43.455756",
     "status": "completed"
    },
    "tags": []
   },
   "outputs": [],
   "source": [
    "for col in binary_cols:\n",
    "    df = label_encoder(df, col)"
   ]
  },
  {
   "cell_type": "code",
   "execution_count": 56,
   "id": "ed3ee889",
   "metadata": {
    "execution": {
     "iopub.execute_input": "2023-07-16T13:31:43.602133Z",
     "iopub.status.busy": "2023-07-16T13:31:43.601681Z",
     "iopub.status.idle": "2023-07-16T13:31:43.621130Z",
     "shell.execute_reply": "2023-07-16T13:31:43.619981Z"
    },
    "papermill": {
     "duration": 0.067558,
     "end_time": "2023-07-16T13:31:43.623866",
     "exception": false,
     "start_time": "2023-07-16T13:31:43.556308",
     "status": "completed"
    },
    "tags": []
   },
   "outputs": [
    {
     "data": {
      "text/html": [
       "<div>\n",
       "<style scoped>\n",
       "    .dataframe tbody tr th:only-of-type {\n",
       "        vertical-align: middle;\n",
       "    }\n",
       "\n",
       "    .dataframe tbody tr th {\n",
       "        vertical-align: top;\n",
       "    }\n",
       "\n",
       "    .dataframe thead th {\n",
       "        text-align: right;\n",
       "    }\n",
       "</style>\n",
       "<table border=\"1\" class=\"dataframe\">\n",
       "  <thead>\n",
       "    <tr style=\"text-align: right;\">\n",
       "      <th></th>\n",
       "      <th>PASSENGERID</th>\n",
       "      <th>SURVIVED</th>\n",
       "      <th>PCLASS</th>\n",
       "      <th>SEX</th>\n",
       "      <th>AGE</th>\n",
       "      <th>SIBSP</th>\n",
       "      <th>PARCH</th>\n",
       "      <th>FARE</th>\n",
       "      <th>EMBARKED</th>\n",
       "      <th>New_CABIN_BOOL</th>\n",
       "      <th>NEW_NAME_COUNT</th>\n",
       "      <th>NEW_NAME_WORD_COUNT</th>\n",
       "      <th>NEW_NAME_DR</th>\n",
       "      <th>NEW_TITLE</th>\n",
       "      <th>NEW_FAMILY_SIZE</th>\n",
       "      <th>NEW_AGE_PCLASS</th>\n",
       "      <th>NEW_IS_ALONE</th>\n",
       "      <th>NEW_AGE_CAT</th>\n",
       "      <th>NEW_SEX_CAT</th>\n",
       "    </tr>\n",
       "  </thead>\n",
       "  <tbody>\n",
       "    <tr>\n",
       "      <th>0</th>\n",
       "      <td>1</td>\n",
       "      <td>0</td>\n",
       "      <td>3</td>\n",
       "      <td>1</td>\n",
       "      <td>22.000</td>\n",
       "      <td>1</td>\n",
       "      <td>0</td>\n",
       "      <td>7.250</td>\n",
       "      <td>S</td>\n",
       "      <td>0</td>\n",
       "      <td>23.000</td>\n",
       "      <td>4</td>\n",
       "      <td>0</td>\n",
       "      <td>Mr</td>\n",
       "      <td>2</td>\n",
       "      <td>66.000</td>\n",
       "      <td>0</td>\n",
       "      <td>mature</td>\n",
       "      <td>maturemale</td>\n",
       "    </tr>\n",
       "    <tr>\n",
       "      <th>1</th>\n",
       "      <td>2</td>\n",
       "      <td>1</td>\n",
       "      <td>1</td>\n",
       "      <td>0</td>\n",
       "      <td>38.000</td>\n",
       "      <td>1</td>\n",
       "      <td>0</td>\n",
       "      <td>71.283</td>\n",
       "      <td>C</td>\n",
       "      <td>1</td>\n",
       "      <td>51.000</td>\n",
       "      <td>7</td>\n",
       "      <td>0</td>\n",
       "      <td>Mrs</td>\n",
       "      <td>2</td>\n",
       "      <td>38.000</td>\n",
       "      <td>0</td>\n",
       "      <td>mature</td>\n",
       "      <td>maturefemale</td>\n",
       "    </tr>\n",
       "    <tr>\n",
       "      <th>2</th>\n",
       "      <td>3</td>\n",
       "      <td>1</td>\n",
       "      <td>3</td>\n",
       "      <td>0</td>\n",
       "      <td>26.000</td>\n",
       "      <td>0</td>\n",
       "      <td>0</td>\n",
       "      <td>7.925</td>\n",
       "      <td>S</td>\n",
       "      <td>0</td>\n",
       "      <td>22.000</td>\n",
       "      <td>3</td>\n",
       "      <td>0</td>\n",
       "      <td>Miss</td>\n",
       "      <td>1</td>\n",
       "      <td>78.000</td>\n",
       "      <td>1</td>\n",
       "      <td>mature</td>\n",
       "      <td>maturefemale</td>\n",
       "    </tr>\n",
       "    <tr>\n",
       "      <th>3</th>\n",
       "      <td>4</td>\n",
       "      <td>1</td>\n",
       "      <td>1</td>\n",
       "      <td>0</td>\n",
       "      <td>35.000</td>\n",
       "      <td>1</td>\n",
       "      <td>0</td>\n",
       "      <td>53.100</td>\n",
       "      <td>S</td>\n",
       "      <td>1</td>\n",
       "      <td>44.000</td>\n",
       "      <td>7</td>\n",
       "      <td>0</td>\n",
       "      <td>Mrs</td>\n",
       "      <td>2</td>\n",
       "      <td>35.000</td>\n",
       "      <td>0</td>\n",
       "      <td>mature</td>\n",
       "      <td>maturefemale</td>\n",
       "    </tr>\n",
       "    <tr>\n",
       "      <th>4</th>\n",
       "      <td>5</td>\n",
       "      <td>0</td>\n",
       "      <td>3</td>\n",
       "      <td>1</td>\n",
       "      <td>35.000</td>\n",
       "      <td>0</td>\n",
       "      <td>0</td>\n",
       "      <td>8.050</td>\n",
       "      <td>S</td>\n",
       "      <td>0</td>\n",
       "      <td>24.000</td>\n",
       "      <td>4</td>\n",
       "      <td>0</td>\n",
       "      <td>Mr</td>\n",
       "      <td>1</td>\n",
       "      <td>105.000</td>\n",
       "      <td>1</td>\n",
       "      <td>mature</td>\n",
       "      <td>maturemale</td>\n",
       "    </tr>\n",
       "  </tbody>\n",
       "</table>\n",
       "</div>"
      ],
      "text/plain": [
       "   PASSENGERID  SURVIVED  PCLASS  SEX    AGE  SIBSP  PARCH   FARE EMBARKED  New_CABIN_BOOL  NEW_NAME_COUNT  NEW_NAME_WORD_COUNT  NEW_NAME_DR NEW_TITLE  NEW_FAMILY_SIZE  NEW_AGE_PCLASS  NEW_IS_ALONE NEW_AGE_CAT   NEW_SEX_CAT\n",
       "0            1         0       3    1 22.000      1      0  7.250        S               0          23.000                    4            0        Mr                2          66.000             0      mature    maturemale\n",
       "1            2         1       1    0 38.000      1      0 71.283        C               1          51.000                    7            0       Mrs                2          38.000             0      mature  maturefemale\n",
       "2            3         1       3    0 26.000      0      0  7.925        S               0          22.000                    3            0      Miss                1          78.000             1      mature  maturefemale\n",
       "3            4         1       1    0 35.000      1      0 53.100        S               1          44.000                    7            0       Mrs                2          35.000             0      mature  maturefemale\n",
       "4            5         0       3    1 35.000      0      0  8.050        S               0          24.000                    4            0        Mr                1         105.000             1      mature    maturemale"
      ]
     },
     "execution_count": 56,
     "metadata": {},
     "output_type": "execute_result"
    }
   ],
   "source": [
    "df.head()"
   ]
  },
  {
   "cell_type": "markdown",
   "id": "8d802b2a",
   "metadata": {
    "papermill": {
     "duration": 0.044036,
     "end_time": "2023-07-16T13:31:43.712628",
     "exception": false,
     "start_time": "2023-07-16T13:31:43.668592",
     "status": "completed"
    },
    "tags": []
   },
   "source": [
    "# 9. Rare Encoding"
   ]
  },
  {
   "cell_type": "code",
   "execution_count": 57,
   "id": "3e057e63",
   "metadata": {
    "execution": {
     "iopub.execute_input": "2023-07-16T13:31:43.803983Z",
     "iopub.status.busy": "2023-07-16T13:31:43.802918Z",
     "iopub.status.idle": "2023-07-16T13:31:43.810113Z",
     "shell.execute_reply": "2023-07-16T13:31:43.809019Z"
    },
    "papermill": {
     "duration": 0.055508,
     "end_time": "2023-07-16T13:31:43.812388",
     "exception": false,
     "start_time": "2023-07-16T13:31:43.756880",
     "status": "completed"
    },
    "tags": []
   },
   "outputs": [],
   "source": [
    "# Rare Category Analysis Function\n",
    "\n",
    "def rare_analyser(dataframe, target, cat_cols):\n",
    "    for col in cat_cols:\n",
    "        print(col, \":\", len(dataframe[col].value_counts()))\n",
    "        print(pd.DataFrame({\"COUNT\": dataframe[col].value_counts(),\n",
    "                            \"RATIO\": dataframe[col].value_counts() / len(dataframe),\n",
    "                            \"TARGET_MEAN\": dataframe.groupby(col)[target].mean()}), end=\"\\n\\n\\n\")"
   ]
  },
  {
   "cell_type": "code",
   "execution_count": 58,
   "id": "0fc4b191",
   "metadata": {
    "execution": {
     "iopub.execute_input": "2023-07-16T13:31:43.903548Z",
     "iopub.status.busy": "2023-07-16T13:31:43.903159Z",
     "iopub.status.idle": "2023-07-16T13:31:43.980907Z",
     "shell.execute_reply": "2023-07-16T13:31:43.979781Z"
    },
    "papermill": {
     "duration": 0.126751,
     "end_time": "2023-07-16T13:31:43.983844",
     "exception": false,
     "start_time": "2023-07-16T13:31:43.857093",
     "status": "completed"
    },
    "tags": []
   },
   "outputs": [
    {
     "name": "stdout",
     "output_type": "stream",
     "text": [
      "SEX : 2\n",
      "   COUNT  RATIO  TARGET_MEAN\n",
      "0    314  0.352        0.742\n",
      "1    577  0.648        0.189\n",
      "\n",
      "\n",
      "EMBARKED : 3\n",
      "   COUNT  RATIO  TARGET_MEAN\n",
      "C    168  0.189        0.554\n",
      "Q     77  0.086        0.390\n",
      "S    646  0.725        0.339\n",
      "\n",
      "\n",
      "NEW_TITLE : 17\n",
      "          COUNT  RATIO  TARGET_MEAN\n",
      "Capt          1  0.001        0.000\n",
      "Col           2  0.002        0.500\n",
      "Countess      1  0.001        1.000\n",
      "Don           1  0.001        0.000\n",
      "Dr            7  0.008        0.429\n",
      "Jonkheer      1  0.001        0.000\n",
      "Lady          1  0.001        1.000\n",
      "Major         2  0.002        0.500\n",
      "Master       40  0.045        0.575\n",
      "Miss        182  0.204        0.698\n",
      "Mlle          2  0.002        1.000\n",
      "Mme           1  0.001        1.000\n",
      "Mr          517  0.580        0.157\n",
      "Mrs         125  0.140        0.792\n",
      "Ms            1  0.001        1.000\n",
      "Rev           6  0.007        0.000\n",
      "Sir           1  0.001        1.000\n",
      "\n",
      "\n",
      "NEW_IS_ALONE : 2\n",
      "   COUNT  RATIO  TARGET_MEAN\n",
      "0    354  0.397        0.506\n",
      "1    537  0.603        0.304\n",
      "\n",
      "\n",
      "NEW_AGE_CAT : 3\n",
      "        COUNT  RATIO  TARGET_MEAN\n",
      "mature    735  0.825        0.363\n",
      "senior     39  0.044        0.308\n",
      "young     117  0.131        0.538\n",
      "\n",
      "\n",
      "NEW_SEX_CAT : 4\n",
      "              COUNT  RATIO  TARGET_MEAN\n",
      "maturefemale    297  0.333        0.731\n",
      "maturemale      530  0.595        0.194\n",
      "seniorfemale     17  0.019        0.941\n",
      "seniormale       47  0.053        0.128\n",
      "\n",
      "\n",
      "SURVIVED : 2\n",
      "   COUNT  RATIO  TARGET_MEAN\n",
      "0    549  0.616        0.000\n",
      "1    342  0.384        1.000\n",
      "\n",
      "\n",
      "PCLASS : 3\n",
      "   COUNT  RATIO  TARGET_MEAN\n",
      "1    216  0.242        0.630\n",
      "2    184  0.207        0.473\n",
      "3    491  0.551        0.242\n",
      "\n",
      "\n",
      "SIBSP : 7\n",
      "   COUNT  RATIO  TARGET_MEAN\n",
      "0    608  0.682        0.345\n",
      "1    209  0.235        0.536\n",
      "2     28  0.031        0.464\n",
      "3     16  0.018        0.250\n",
      "4     18  0.020        0.167\n",
      "5      5  0.006        0.000\n",
      "8      7  0.008        0.000\n",
      "\n",
      "\n",
      "PARCH : 7\n",
      "   COUNT  RATIO  TARGET_MEAN\n",
      "0    678  0.761        0.344\n",
      "1    118  0.132        0.551\n",
      "2     80  0.090        0.500\n",
      "3      5  0.006        0.600\n",
      "4      4  0.004        0.000\n",
      "5      5  0.006        0.200\n",
      "6      1  0.001        0.000\n",
      "\n",
      "\n",
      "New_CABIN_BOOL : 2\n",
      "   COUNT  RATIO  TARGET_MEAN\n",
      "0    687  0.771        0.300\n",
      "1    204  0.229        0.667\n",
      "\n",
      "\n",
      "NEW_NAME_WORD_COUNT : 8\n",
      "    COUNT  RATIO  TARGET_MEAN\n",
      "3     305  0.342        0.292\n",
      "4     388  0.435        0.340\n",
      "5      96  0.108        0.427\n",
      "6      53  0.059        0.774\n",
      "7      38  0.043        0.842\n",
      "8       9  0.010        0.556\n",
      "9       1  0.001        1.000\n",
      "14      1  0.001        1.000\n",
      "\n",
      "\n",
      "NEW_NAME_DR : 2\n",
      "   COUNT  RATIO  TARGET_MEAN\n",
      "0    881  0.989        0.383\n",
      "1     10  0.011        0.500\n",
      "\n",
      "\n",
      "NEW_FAMILY_SIZE : 9\n",
      "    COUNT  RATIO  TARGET_MEAN\n",
      "1     537  0.603        0.304\n",
      "2     161  0.181        0.553\n",
      "3     102  0.114        0.578\n",
      "4      29  0.033        0.724\n",
      "5      15  0.017        0.200\n",
      "6      22  0.025        0.136\n",
      "7      12  0.013        0.333\n",
      "8       6  0.007        0.000\n",
      "11      7  0.008        0.000\n",
      "\n",
      "\n"
     ]
    }
   ],
   "source": [
    "rare_analyser(df, \"SURVIVED\", cat_cols)"
   ]
  },
  {
   "cell_type": "code",
   "execution_count": 59,
   "id": "07192af5",
   "metadata": {
    "execution": {
     "iopub.execute_input": "2023-07-16T13:31:44.075452Z",
     "iopub.status.busy": "2023-07-16T13:31:44.074716Z",
     "iopub.status.idle": "2023-07-16T13:31:44.082496Z",
     "shell.execute_reply": "2023-07-16T13:31:44.081256Z"
    },
    "papermill": {
     "duration": 0.056896,
     "end_time": "2023-07-16T13:31:44.085315",
     "exception": false,
     "start_time": "2023-07-16T13:31:44.028419",
     "status": "completed"
    },
    "tags": []
   },
   "outputs": [],
   "source": [
    "# Rare Encoder Function \n",
    "\n",
    "def rare_encoder(dataframe, rare_perc):\n",
    "    temp_df = dataframe.copy()\n",
    "\n",
    "    rare_columns = [col for col in temp_df.columns if temp_df[col].dtypes == 'O'\n",
    "                    and (temp_df[col].value_counts() / len(temp_df) < rare_perc).any(axis=None)]\n",
    "\n",
    "    for var in rare_columns:\n",
    "        tmp = temp_df[var].value_counts() / len(temp_df)\n",
    "        rare_labels = tmp[tmp < rare_perc].index\n",
    "        temp_df[var] = np.where(temp_df[var].isin(rare_labels), 'Rare', temp_df[var])\n",
    "\n",
    "    return temp_df"
   ]
  },
  {
   "cell_type": "code",
   "execution_count": 60,
   "id": "694123dc",
   "metadata": {
    "execution": {
     "iopub.execute_input": "2023-07-16T13:31:44.176642Z",
     "iopub.status.busy": "2023-07-16T13:31:44.176202Z",
     "iopub.status.idle": "2023-07-16T13:31:44.188852Z",
     "shell.execute_reply": "2023-07-16T13:31:44.187935Z"
    },
    "papermill": {
     "duration": 0.061135,
     "end_time": "2023-07-16T13:31:44.191554",
     "exception": false,
     "start_time": "2023-07-16T13:31:44.130419",
     "status": "completed"
    },
    "tags": []
   },
   "outputs": [],
   "source": [
    "df = rare_encoder(df, 0.01)"
   ]
  },
  {
   "cell_type": "code",
   "execution_count": 61,
   "id": "bbd86cc9",
   "metadata": {
    "execution": {
     "iopub.execute_input": "2023-07-16T13:31:44.285414Z",
     "iopub.status.busy": "2023-07-16T13:31:44.284960Z",
     "iopub.status.idle": "2023-07-16T13:31:44.294420Z",
     "shell.execute_reply": "2023-07-16T13:31:44.293306Z"
    },
    "papermill": {
     "duration": 0.057478,
     "end_time": "2023-07-16T13:31:44.296718",
     "exception": false,
     "start_time": "2023-07-16T13:31:44.239240",
     "status": "completed"
    },
    "tags": []
   },
   "outputs": [
    {
     "data": {
      "text/plain": [
       "Mr        517\n",
       "Miss      182\n",
       "Mrs       125\n",
       "Master     40\n",
       "Rare       27\n",
       "Name: NEW_TITLE, dtype: int64"
      ]
     },
     "execution_count": 61,
     "metadata": {},
     "output_type": "execute_result"
    }
   ],
   "source": [
    "df[\"NEW_TITLE\"].value_counts()"
   ]
  },
  {
   "cell_type": "markdown",
   "id": "1afd2db8",
   "metadata": {
    "papermill": {
     "duration": 0.044513,
     "end_time": "2023-07-16T13:31:44.385911",
     "exception": false,
     "start_time": "2023-07-16T13:31:44.341398",
     "status": "completed"
    },
    "tags": []
   },
   "source": [
    "# 10. One-Hot Encoding"
   ]
  },
  {
   "cell_type": "code",
   "execution_count": 62,
   "id": "9058763e",
   "metadata": {
    "execution": {
     "iopub.execute_input": "2023-07-16T13:31:44.478761Z",
     "iopub.status.busy": "2023-07-16T13:31:44.478026Z",
     "iopub.status.idle": "2023-07-16T13:31:44.484138Z",
     "shell.execute_reply": "2023-07-16T13:31:44.483116Z"
    },
    "papermill": {
     "duration": 0.055766,
     "end_time": "2023-07-16T13:31:44.486394",
     "exception": false,
     "start_time": "2023-07-16T13:31:44.430628",
     "status": "completed"
    },
    "tags": []
   },
   "outputs": [],
   "source": [
    "# One-Hot Encoder Funtion\n",
    "\n",
    "def one_hot_encoder(dataframe, categorical_cols, drop_first=True):\n",
    "    dataframe = pd.get_dummies(dataframe, columns=categorical_cols, drop_first=drop_first)\n",
    "    return dataframe"
   ]
  },
  {
   "cell_type": "code",
   "execution_count": 63,
   "id": "f7185f1d",
   "metadata": {
    "execution": {
     "iopub.execute_input": "2023-07-16T13:31:44.578989Z",
     "iopub.status.busy": "2023-07-16T13:31:44.578572Z",
     "iopub.status.idle": "2023-07-16T13:31:44.587628Z",
     "shell.execute_reply": "2023-07-16T13:31:44.586764Z"
    },
    "papermill": {
     "duration": 0.058165,
     "end_time": "2023-07-16T13:31:44.589916",
     "exception": false,
     "start_time": "2023-07-16T13:31:44.531751",
     "status": "completed"
    },
    "tags": []
   },
   "outputs": [],
   "source": [
    "ohe_cols = [col for col in df.columns if 10 >= df[col].nunique() > 2]"
   ]
  },
  {
   "cell_type": "code",
   "execution_count": 64,
   "id": "cfa7b1d9",
   "metadata": {
    "execution": {
     "iopub.execute_input": "2023-07-16T13:31:44.682301Z",
     "iopub.status.busy": "2023-07-16T13:31:44.681176Z",
     "iopub.status.idle": "2023-07-16T13:31:44.697747Z",
     "shell.execute_reply": "2023-07-16T13:31:44.696886Z"
    },
    "papermill": {
     "duration": 0.06536,
     "end_time": "2023-07-16T13:31:44.700216",
     "exception": false,
     "start_time": "2023-07-16T13:31:44.634856",
     "status": "completed"
    },
    "tags": []
   },
   "outputs": [],
   "source": [
    "df = one_hot_encoder(df, ohe_cols)"
   ]
  },
  {
   "cell_type": "code",
   "execution_count": 65,
   "id": "37848574",
   "metadata": {
    "execution": {
     "iopub.execute_input": "2023-07-16T13:31:44.792946Z",
     "iopub.status.busy": "2023-07-16T13:31:44.792180Z",
     "iopub.status.idle": "2023-07-16T13:31:44.821946Z",
     "shell.execute_reply": "2023-07-16T13:31:44.820774Z"
    },
    "papermill": {
     "duration": 0.078802,
     "end_time": "2023-07-16T13:31:44.824833",
     "exception": false,
     "start_time": "2023-07-16T13:31:44.746031",
     "status": "completed"
    },
    "tags": []
   },
   "outputs": [
    {
     "data": {
      "text/html": [
       "<div>\n",
       "<style scoped>\n",
       "    .dataframe tbody tr th:only-of-type {\n",
       "        vertical-align: middle;\n",
       "    }\n",
       "\n",
       "    .dataframe tbody tr th {\n",
       "        vertical-align: top;\n",
       "    }\n",
       "\n",
       "    .dataframe thead th {\n",
       "        text-align: right;\n",
       "    }\n",
       "</style>\n",
       "<table border=\"1\" class=\"dataframe\">\n",
       "  <thead>\n",
       "    <tr style=\"text-align: right;\">\n",
       "      <th></th>\n",
       "      <th>PASSENGERID</th>\n",
       "      <th>SURVIVED</th>\n",
       "      <th>SEX</th>\n",
       "      <th>AGE</th>\n",
       "      <th>FARE</th>\n",
       "      <th>New_CABIN_BOOL</th>\n",
       "      <th>NEW_NAME_COUNT</th>\n",
       "      <th>NEW_NAME_DR</th>\n",
       "      <th>NEW_AGE_PCLASS</th>\n",
       "      <th>NEW_IS_ALONE</th>\n",
       "      <th>PCLASS_2</th>\n",
       "      <th>PCLASS_3</th>\n",
       "      <th>SIBSP_1</th>\n",
       "      <th>SIBSP_2</th>\n",
       "      <th>SIBSP_3</th>\n",
       "      <th>SIBSP_4</th>\n",
       "      <th>SIBSP_5</th>\n",
       "      <th>SIBSP_8</th>\n",
       "      <th>PARCH_1</th>\n",
       "      <th>PARCH_2</th>\n",
       "      <th>PARCH_3</th>\n",
       "      <th>PARCH_4</th>\n",
       "      <th>PARCH_5</th>\n",
       "      <th>PARCH_6</th>\n",
       "      <th>EMBARKED_Q</th>\n",
       "      <th>EMBARKED_S</th>\n",
       "      <th>NEW_NAME_WORD_COUNT_4</th>\n",
       "      <th>NEW_NAME_WORD_COUNT_5</th>\n",
       "      <th>NEW_NAME_WORD_COUNT_6</th>\n",
       "      <th>NEW_NAME_WORD_COUNT_7</th>\n",
       "      <th>NEW_NAME_WORD_COUNT_8</th>\n",
       "      <th>NEW_NAME_WORD_COUNT_9</th>\n",
       "      <th>NEW_NAME_WORD_COUNT_14</th>\n",
       "      <th>NEW_TITLE_Miss</th>\n",
       "      <th>NEW_TITLE_Mr</th>\n",
       "      <th>NEW_TITLE_Mrs</th>\n",
       "      <th>NEW_TITLE_Rare</th>\n",
       "      <th>NEW_FAMILY_SIZE_2</th>\n",
       "      <th>NEW_FAMILY_SIZE_3</th>\n",
       "      <th>NEW_FAMILY_SIZE_4</th>\n",
       "      <th>NEW_FAMILY_SIZE_5</th>\n",
       "      <th>NEW_FAMILY_SIZE_6</th>\n",
       "      <th>NEW_FAMILY_SIZE_7</th>\n",
       "      <th>NEW_FAMILY_SIZE_8</th>\n",
       "      <th>NEW_FAMILY_SIZE_11</th>\n",
       "      <th>NEW_AGE_CAT_senior</th>\n",
       "      <th>NEW_AGE_CAT_young</th>\n",
       "      <th>NEW_SEX_CAT_maturemale</th>\n",
       "      <th>NEW_SEX_CAT_seniorfemale</th>\n",
       "      <th>NEW_SEX_CAT_seniormale</th>\n",
       "    </tr>\n",
       "  </thead>\n",
       "  <tbody>\n",
       "    <tr>\n",
       "      <th>0</th>\n",
       "      <td>1</td>\n",
       "      <td>0</td>\n",
       "      <td>1</td>\n",
       "      <td>22.000</td>\n",
       "      <td>7.250</td>\n",
       "      <td>0</td>\n",
       "      <td>23.000</td>\n",
       "      <td>0</td>\n",
       "      <td>66.000</td>\n",
       "      <td>0</td>\n",
       "      <td>0</td>\n",
       "      <td>1</td>\n",
       "      <td>1</td>\n",
       "      <td>0</td>\n",
       "      <td>0</td>\n",
       "      <td>0</td>\n",
       "      <td>0</td>\n",
       "      <td>0</td>\n",
       "      <td>0</td>\n",
       "      <td>0</td>\n",
       "      <td>0</td>\n",
       "      <td>0</td>\n",
       "      <td>0</td>\n",
       "      <td>0</td>\n",
       "      <td>0</td>\n",
       "      <td>1</td>\n",
       "      <td>1</td>\n",
       "      <td>0</td>\n",
       "      <td>0</td>\n",
       "      <td>0</td>\n",
       "      <td>0</td>\n",
       "      <td>0</td>\n",
       "      <td>0</td>\n",
       "      <td>0</td>\n",
       "      <td>1</td>\n",
       "      <td>0</td>\n",
       "      <td>0</td>\n",
       "      <td>1</td>\n",
       "      <td>0</td>\n",
       "      <td>0</td>\n",
       "      <td>0</td>\n",
       "      <td>0</td>\n",
       "      <td>0</td>\n",
       "      <td>0</td>\n",
       "      <td>0</td>\n",
       "      <td>0</td>\n",
       "      <td>0</td>\n",
       "      <td>1</td>\n",
       "      <td>0</td>\n",
       "      <td>0</td>\n",
       "    </tr>\n",
       "    <tr>\n",
       "      <th>1</th>\n",
       "      <td>2</td>\n",
       "      <td>1</td>\n",
       "      <td>0</td>\n",
       "      <td>38.000</td>\n",
       "      <td>71.283</td>\n",
       "      <td>1</td>\n",
       "      <td>51.000</td>\n",
       "      <td>0</td>\n",
       "      <td>38.000</td>\n",
       "      <td>0</td>\n",
       "      <td>0</td>\n",
       "      <td>0</td>\n",
       "      <td>1</td>\n",
       "      <td>0</td>\n",
       "      <td>0</td>\n",
       "      <td>0</td>\n",
       "      <td>0</td>\n",
       "      <td>0</td>\n",
       "      <td>0</td>\n",
       "      <td>0</td>\n",
       "      <td>0</td>\n",
       "      <td>0</td>\n",
       "      <td>0</td>\n",
       "      <td>0</td>\n",
       "      <td>0</td>\n",
       "      <td>0</td>\n",
       "      <td>0</td>\n",
       "      <td>0</td>\n",
       "      <td>0</td>\n",
       "      <td>1</td>\n",
       "      <td>0</td>\n",
       "      <td>0</td>\n",
       "      <td>0</td>\n",
       "      <td>0</td>\n",
       "      <td>0</td>\n",
       "      <td>1</td>\n",
       "      <td>0</td>\n",
       "      <td>1</td>\n",
       "      <td>0</td>\n",
       "      <td>0</td>\n",
       "      <td>0</td>\n",
       "      <td>0</td>\n",
       "      <td>0</td>\n",
       "      <td>0</td>\n",
       "      <td>0</td>\n",
       "      <td>0</td>\n",
       "      <td>0</td>\n",
       "      <td>0</td>\n",
       "      <td>0</td>\n",
       "      <td>0</td>\n",
       "    </tr>\n",
       "    <tr>\n",
       "      <th>2</th>\n",
       "      <td>3</td>\n",
       "      <td>1</td>\n",
       "      <td>0</td>\n",
       "      <td>26.000</td>\n",
       "      <td>7.925</td>\n",
       "      <td>0</td>\n",
       "      <td>22.000</td>\n",
       "      <td>0</td>\n",
       "      <td>78.000</td>\n",
       "      <td>1</td>\n",
       "      <td>0</td>\n",
       "      <td>1</td>\n",
       "      <td>0</td>\n",
       "      <td>0</td>\n",
       "      <td>0</td>\n",
       "      <td>0</td>\n",
       "      <td>0</td>\n",
       "      <td>0</td>\n",
       "      <td>0</td>\n",
       "      <td>0</td>\n",
       "      <td>0</td>\n",
       "      <td>0</td>\n",
       "      <td>0</td>\n",
       "      <td>0</td>\n",
       "      <td>0</td>\n",
       "      <td>1</td>\n",
       "      <td>0</td>\n",
       "      <td>0</td>\n",
       "      <td>0</td>\n",
       "      <td>0</td>\n",
       "      <td>0</td>\n",
       "      <td>0</td>\n",
       "      <td>0</td>\n",
       "      <td>1</td>\n",
       "      <td>0</td>\n",
       "      <td>0</td>\n",
       "      <td>0</td>\n",
       "      <td>0</td>\n",
       "      <td>0</td>\n",
       "      <td>0</td>\n",
       "      <td>0</td>\n",
       "      <td>0</td>\n",
       "      <td>0</td>\n",
       "      <td>0</td>\n",
       "      <td>0</td>\n",
       "      <td>0</td>\n",
       "      <td>0</td>\n",
       "      <td>0</td>\n",
       "      <td>0</td>\n",
       "      <td>0</td>\n",
       "    </tr>\n",
       "    <tr>\n",
       "      <th>3</th>\n",
       "      <td>4</td>\n",
       "      <td>1</td>\n",
       "      <td>0</td>\n",
       "      <td>35.000</td>\n",
       "      <td>53.100</td>\n",
       "      <td>1</td>\n",
       "      <td>44.000</td>\n",
       "      <td>0</td>\n",
       "      <td>35.000</td>\n",
       "      <td>0</td>\n",
       "      <td>0</td>\n",
       "      <td>0</td>\n",
       "      <td>1</td>\n",
       "      <td>0</td>\n",
       "      <td>0</td>\n",
       "      <td>0</td>\n",
       "      <td>0</td>\n",
       "      <td>0</td>\n",
       "      <td>0</td>\n",
       "      <td>0</td>\n",
       "      <td>0</td>\n",
       "      <td>0</td>\n",
       "      <td>0</td>\n",
       "      <td>0</td>\n",
       "      <td>0</td>\n",
       "      <td>1</td>\n",
       "      <td>0</td>\n",
       "      <td>0</td>\n",
       "      <td>0</td>\n",
       "      <td>1</td>\n",
       "      <td>0</td>\n",
       "      <td>0</td>\n",
       "      <td>0</td>\n",
       "      <td>0</td>\n",
       "      <td>0</td>\n",
       "      <td>1</td>\n",
       "      <td>0</td>\n",
       "      <td>1</td>\n",
       "      <td>0</td>\n",
       "      <td>0</td>\n",
       "      <td>0</td>\n",
       "      <td>0</td>\n",
       "      <td>0</td>\n",
       "      <td>0</td>\n",
       "      <td>0</td>\n",
       "      <td>0</td>\n",
       "      <td>0</td>\n",
       "      <td>0</td>\n",
       "      <td>0</td>\n",
       "      <td>0</td>\n",
       "    </tr>\n",
       "    <tr>\n",
       "      <th>4</th>\n",
       "      <td>5</td>\n",
       "      <td>0</td>\n",
       "      <td>1</td>\n",
       "      <td>35.000</td>\n",
       "      <td>8.050</td>\n",
       "      <td>0</td>\n",
       "      <td>24.000</td>\n",
       "      <td>0</td>\n",
       "      <td>105.000</td>\n",
       "      <td>1</td>\n",
       "      <td>0</td>\n",
       "      <td>1</td>\n",
       "      <td>0</td>\n",
       "      <td>0</td>\n",
       "      <td>0</td>\n",
       "      <td>0</td>\n",
       "      <td>0</td>\n",
       "      <td>0</td>\n",
       "      <td>0</td>\n",
       "      <td>0</td>\n",
       "      <td>0</td>\n",
       "      <td>0</td>\n",
       "      <td>0</td>\n",
       "      <td>0</td>\n",
       "      <td>0</td>\n",
       "      <td>1</td>\n",
       "      <td>1</td>\n",
       "      <td>0</td>\n",
       "      <td>0</td>\n",
       "      <td>0</td>\n",
       "      <td>0</td>\n",
       "      <td>0</td>\n",
       "      <td>0</td>\n",
       "      <td>0</td>\n",
       "      <td>1</td>\n",
       "      <td>0</td>\n",
       "      <td>0</td>\n",
       "      <td>0</td>\n",
       "      <td>0</td>\n",
       "      <td>0</td>\n",
       "      <td>0</td>\n",
       "      <td>0</td>\n",
       "      <td>0</td>\n",
       "      <td>0</td>\n",
       "      <td>0</td>\n",
       "      <td>0</td>\n",
       "      <td>0</td>\n",
       "      <td>1</td>\n",
       "      <td>0</td>\n",
       "      <td>0</td>\n",
       "    </tr>\n",
       "  </tbody>\n",
       "</table>\n",
       "</div>"
      ],
      "text/plain": [
       "   PASSENGERID  SURVIVED  SEX    AGE   FARE  New_CABIN_BOOL  NEW_NAME_COUNT  NEW_NAME_DR  NEW_AGE_PCLASS  NEW_IS_ALONE  PCLASS_2  PCLASS_3  SIBSP_1  SIBSP_2  SIBSP_3  SIBSP_4  SIBSP_5  SIBSP_8  PARCH_1  PARCH_2  PARCH_3  PARCH_4  PARCH_5  PARCH_6  EMBARKED_Q  EMBARKED_S  NEW_NAME_WORD_COUNT_4  NEW_NAME_WORD_COUNT_5  NEW_NAME_WORD_COUNT_6  NEW_NAME_WORD_COUNT_7  NEW_NAME_WORD_COUNT_8  NEW_NAME_WORD_COUNT_9  NEW_NAME_WORD_COUNT_14  NEW_TITLE_Miss  NEW_TITLE_Mr  NEW_TITLE_Mrs  NEW_TITLE_Rare  \\\n",
       "0            1         0    1 22.000  7.250               0          23.000            0          66.000             0         0         1        1        0        0        0        0        0        0        0        0        0        0        0           0           1                      1                      0                      0                      0                      0                      0                       0               0             1              0               0   \n",
       "1            2         1    0 38.000 71.283               1          51.000            0          38.000             0         0         0        1        0        0        0        0        0        0        0        0        0        0        0           0           0                      0                      0                      0                      1                      0                      0                       0               0             0              1               0   \n",
       "2            3         1    0 26.000  7.925               0          22.000            0          78.000             1         0         1        0        0        0        0        0        0        0        0        0        0        0        0           0           1                      0                      0                      0                      0                      0                      0                       0               1             0              0               0   \n",
       "3            4         1    0 35.000 53.100               1          44.000            0          35.000             0         0         0        1        0        0        0        0        0        0        0        0        0        0        0           0           1                      0                      0                      0                      1                      0                      0                       0               0             0              1               0   \n",
       "4            5         0    1 35.000  8.050               0          24.000            0         105.000             1         0         1        0        0        0        0        0        0        0        0        0        0        0        0           0           1                      1                      0                      0                      0                      0                      0                       0               0             1              0               0   \n",
       "\n",
       "   NEW_FAMILY_SIZE_2  NEW_FAMILY_SIZE_3  NEW_FAMILY_SIZE_4  NEW_FAMILY_SIZE_5  NEW_FAMILY_SIZE_6  NEW_FAMILY_SIZE_7  NEW_FAMILY_SIZE_8  NEW_FAMILY_SIZE_11  NEW_AGE_CAT_senior  NEW_AGE_CAT_young  NEW_SEX_CAT_maturemale  NEW_SEX_CAT_seniorfemale  NEW_SEX_CAT_seniormale  \n",
       "0                  1                  0                  0                  0                  0                  0                  0                   0                   0                  0                       1                         0                       0  \n",
       "1                  1                  0                  0                  0                  0                  0                  0                   0                   0                  0                       0                         0                       0  \n",
       "2                  0                  0                  0                  0                  0                  0                  0                   0                   0                  0                       0                         0                       0  \n",
       "3                  1                  0                  0                  0                  0                  0                  0                   0                   0                  0                       0                         0                       0  \n",
       "4                  0                  0                  0                  0                  0                  0                  0                   0                   0                  0                       1                         0                       0  "
      ]
     },
     "execution_count": 65,
     "metadata": {},
     "output_type": "execute_result"
    }
   ],
   "source": [
    "df.head()"
   ]
  },
  {
   "cell_type": "code",
   "execution_count": 66,
   "id": "b5a1ac18",
   "metadata": {
    "execution": {
     "iopub.execute_input": "2023-07-16T13:31:44.917907Z",
     "iopub.status.busy": "2023-07-16T13:31:44.917452Z",
     "iopub.status.idle": "2023-07-16T13:31:44.924079Z",
     "shell.execute_reply": "2023-07-16T13:31:44.923252Z"
    },
    "papermill": {
     "duration": 0.055486,
     "end_time": "2023-07-16T13:31:44.926087",
     "exception": false,
     "start_time": "2023-07-16T13:31:44.870601",
     "status": "completed"
    },
    "tags": []
   },
   "outputs": [
    {
     "data": {
      "text/plain": [
       "(891, 50)"
      ]
     },
     "execution_count": 66,
     "metadata": {},
     "output_type": "execute_result"
    }
   ],
   "source": [
    "df.shape"
   ]
  },
  {
   "cell_type": "code",
   "execution_count": 67,
   "id": "a03ada90",
   "metadata": {
    "execution": {
     "iopub.execute_input": "2023-07-16T13:31:45.020984Z",
     "iopub.status.busy": "2023-07-16T13:31:45.020293Z",
     "iopub.status.idle": "2023-07-16T13:31:45.031441Z",
     "shell.execute_reply": "2023-07-16T13:31:45.030494Z"
    },
    "papermill": {
     "duration": 0.061179,
     "end_time": "2023-07-16T13:31:45.034026",
     "exception": false,
     "start_time": "2023-07-16T13:31:44.972847",
     "status": "completed"
    },
    "tags": []
   },
   "outputs": [],
   "source": [
    "# Analysis of Variables.\n",
    "\n",
    "def grab_col_names(dataframe, cat_th=10, car_th=20):\n",
    "    \"\"\"\n",
    "    Veri setindeki kategorik, numerik ve kategorik fakat kardinal değişkenlerin isimlerini verir.\n",
    "    Not: Kategorik değişkenlerin içerisine numerik görünümlü kategorik değişkenler de dahildir.\n",
    "    Parameters\n",
    "    ------\n",
    "        dataframe: dataframe\n",
    "                Değişken isimleri alınmak istenilen dataframe\n",
    "        cat_th: int, optional\n",
    "                numerik fakat kategorik olan değişkenler için sınıf eşik değeri\n",
    "        car_th: int, optinal\n",
    "                kategorik fakat kardinal değişkenler için sınıf eşik değeri\n",
    "    Returns\n",
    "    ------\n",
    "        cat_cols: list\n",
    "                Kategorik değişken listesi\n",
    "        num_cols: list\n",
    "                Numerik değişken listesi\n",
    "        cat_but_car: list\n",
    "                Kategorik görünümlü kardinal değişken listesi\n",
    "    Examples\n",
    "    ------\n",
    "        import seaborn as sns\n",
    "        df = sns.load_dataset(\"iris\")\n",
    "        print(grab_col_names(df))\n",
    "    Notes\n",
    "    ------\n",
    "        cat_cols + num_cols + cat_but_car = toplam değişken sayısı\n",
    "        num_but_cat cat_cols'un içerisinde.\n",
    "        Return olan 3 liste toplamı toplam değişken sayısına eşittir: cat_cols + num_cols + cat_but_car = değişken sayısı\n",
    "    \"\"\"\n",
    "\n",
    "    # cat_cols, cat_but_car\n",
    "    cat_cols = [col for col in dataframe.columns if dataframe[col].dtypes == 'O']\n",
    "    num_but_cat = [col for col in dataframe.columns if dataframe[col].nunique() < cat_th and\n",
    "                   dataframe[col].dtypes != 'O']\n",
    "    cat_but_car = [col for col in dataframe.columns if dataframe[col].nunique() > car_th and\n",
    "                   dataframe[col].dtypes == 'O']\n",
    "    cat_cols = cat_cols + num_but_cat\n",
    "    cat_cols = [col for col in cat_cols if col not in cat_but_car]\n",
    "\n",
    "    # num_cols\n",
    "    num_cols = [col for col in dataframe.columns if dataframe[col].dtypes != 'O']\n",
    "    num_cols = [col for col in num_cols if col not in num_but_cat]\n",
    "\n",
    "    print(f'Observations: {dataframe.shape[0]}')\n",
    "    print(f'Variables: {dataframe.shape[1]}')\n",
    "    print(f'cat_cols: {len(cat_cols)}')\n",
    "    print(f'num_cols: {len(num_cols)}')\n",
    "    print(f'cat_but_car: {len(cat_but_car)}')\n",
    "    print(f'num_but_cat: {len(num_but_cat)}')\n",
    "    return cat_cols, num_cols, cat_but_car, num_but_cat"
   ]
  },
  {
   "cell_type": "code",
   "execution_count": 68,
   "id": "6e3644f6",
   "metadata": {
    "execution": {
     "iopub.execute_input": "2023-07-16T13:31:45.129339Z",
     "iopub.status.busy": "2023-07-16T13:31:45.128660Z",
     "iopub.status.idle": "2023-07-16T13:31:45.145237Z",
     "shell.execute_reply": "2023-07-16T13:31:45.144217Z"
    },
    "papermill": {
     "duration": 0.067498,
     "end_time": "2023-07-16T13:31:45.147805",
     "exception": false,
     "start_time": "2023-07-16T13:31:45.080307",
     "status": "completed"
    },
    "tags": []
   },
   "outputs": [
    {
     "name": "stdout",
     "output_type": "stream",
     "text": [
      "Observations: 891\n",
      "Variables: 50\n",
      "cat_cols: 45\n",
      "num_cols: 5\n",
      "cat_but_car: 0\n",
      "num_but_cat: 45\n"
     ]
    }
   ],
   "source": [
    "cat_cols, num_cols, cat_but_car, num_but_cat = grab_col_names(df)"
   ]
  },
  {
   "cell_type": "code",
   "execution_count": 69,
   "id": "37151ba1",
   "metadata": {
    "execution": {
     "iopub.execute_input": "2023-07-16T13:31:45.243035Z",
     "iopub.status.busy": "2023-07-16T13:31:45.242582Z",
     "iopub.status.idle": "2023-07-16T13:31:45.247557Z",
     "shell.execute_reply": "2023-07-16T13:31:45.246311Z"
    },
    "papermill": {
     "duration": 0.056343,
     "end_time": "2023-07-16T13:31:45.249947",
     "exception": false,
     "start_time": "2023-07-16T13:31:45.193604",
     "status": "completed"
    },
    "tags": []
   },
   "outputs": [],
   "source": [
    "num_cols = [col for col in num_cols if \"PASSENGERID\" not in col]"
   ]
  },
  {
   "cell_type": "code",
   "execution_count": 70,
   "id": "0e069cff",
   "metadata": {
    "execution": {
     "iopub.execute_input": "2023-07-16T13:31:45.343627Z",
     "iopub.status.busy": "2023-07-16T13:31:45.343164Z",
     "iopub.status.idle": "2023-07-16T13:31:45.350381Z",
     "shell.execute_reply": "2023-07-16T13:31:45.349311Z"
    },
    "papermill": {
     "duration": 0.056592,
     "end_time": "2023-07-16T13:31:45.352617",
     "exception": false,
     "start_time": "2023-07-16T13:31:45.296025",
     "status": "completed"
    },
    "tags": []
   },
   "outputs": [
    {
     "data": {
      "text/plain": [
       "['AGE', 'FARE', 'NEW_NAME_COUNT', 'NEW_AGE_PCLASS']"
      ]
     },
     "execution_count": 70,
     "metadata": {},
     "output_type": "execute_result"
    }
   ],
   "source": [
    "num_cols"
   ]
  },
  {
   "cell_type": "code",
   "execution_count": 71,
   "id": "671d7ebf",
   "metadata": {
    "execution": {
     "iopub.execute_input": "2023-07-16T13:31:45.448283Z",
     "iopub.status.busy": "2023-07-16T13:31:45.447599Z",
     "iopub.status.idle": "2023-07-16T13:31:45.638326Z",
     "shell.execute_reply": "2023-07-16T13:31:45.637360Z"
    },
    "papermill": {
     "duration": 0.242423,
     "end_time": "2023-07-16T13:31:45.641949",
     "exception": false,
     "start_time": "2023-07-16T13:31:45.399526",
     "status": "completed"
    },
    "tags": []
   },
   "outputs": [
    {
     "name": "stdout",
     "output_type": "stream",
     "text": [
      "SURVIVED : 2\n",
      "   COUNT  RATIO  TARGET_MEAN\n",
      "0    549  0.616        0.000\n",
      "1    342  0.384        1.000\n",
      "\n",
      "\n",
      "SEX : 2\n",
      "   COUNT  RATIO  TARGET_MEAN\n",
      "0    314  0.352        0.742\n",
      "1    577  0.648        0.189\n",
      "\n",
      "\n",
      "New_CABIN_BOOL : 2\n",
      "   COUNT  RATIO  TARGET_MEAN\n",
      "0    687  0.771        0.300\n",
      "1    204  0.229        0.667\n",
      "\n",
      "\n",
      "NEW_NAME_DR : 2\n",
      "   COUNT  RATIO  TARGET_MEAN\n",
      "0    881  0.989        0.383\n",
      "1     10  0.011        0.500\n",
      "\n",
      "\n",
      "NEW_IS_ALONE : 2\n",
      "   COUNT  RATIO  TARGET_MEAN\n",
      "0    354  0.397        0.506\n",
      "1    537  0.603        0.304\n",
      "\n",
      "\n",
      "PCLASS_2 : 2\n",
      "   COUNT  RATIO  TARGET_MEAN\n",
      "0    707  0.793        0.361\n",
      "1    184  0.207        0.473\n",
      "\n",
      "\n",
      "PCLASS_3 : 2\n",
      "   COUNT  RATIO  TARGET_MEAN\n",
      "0    400  0.449        0.557\n",
      "1    491  0.551        0.242\n",
      "\n",
      "\n",
      "SIBSP_1 : 2\n",
      "   COUNT  RATIO  TARGET_MEAN\n",
      "0    682  0.765        0.337\n",
      "1    209  0.235        0.536\n",
      "\n",
      "\n",
      "SIBSP_2 : 2\n",
      "   COUNT  RATIO  TARGET_MEAN\n",
      "0    863  0.969        0.381\n",
      "1     28  0.031        0.464\n",
      "\n",
      "\n",
      "SIBSP_3 : 2\n",
      "   COUNT  RATIO  TARGET_MEAN\n",
      "0    875  0.982        0.386\n",
      "1     16  0.018        0.250\n",
      "\n",
      "\n",
      "SIBSP_4 : 2\n",
      "   COUNT  RATIO  TARGET_MEAN\n",
      "0    873  0.980        0.388\n",
      "1     18  0.020        0.167\n",
      "\n",
      "\n",
      "SIBSP_5 : 2\n",
      "   COUNT  RATIO  TARGET_MEAN\n",
      "0    886  0.994        0.386\n",
      "1      5  0.006        0.000\n",
      "\n",
      "\n",
      "SIBSP_8 : 2\n",
      "   COUNT  RATIO  TARGET_MEAN\n",
      "0    884  0.992        0.387\n",
      "1      7  0.008        0.000\n",
      "\n",
      "\n",
      "PARCH_1 : 2\n",
      "   COUNT  RATIO  TARGET_MEAN\n",
      "0    773  0.868        0.358\n",
      "1    118  0.132        0.551\n",
      "\n",
      "\n",
      "PARCH_2 : 2\n",
      "   COUNT  RATIO  TARGET_MEAN\n",
      "0    811  0.910        0.372\n",
      "1     80  0.090        0.500\n",
      "\n",
      "\n",
      "PARCH_3 : 2\n",
      "   COUNT  RATIO  TARGET_MEAN\n",
      "0    886  0.994        0.383\n",
      "1      5  0.006        0.600\n",
      "\n",
      "\n",
      "PARCH_4 : 2\n",
      "   COUNT  RATIO  TARGET_MEAN\n",
      "0    887  0.996        0.386\n",
      "1      4  0.004        0.000\n",
      "\n",
      "\n",
      "PARCH_5 : 2\n",
      "   COUNT  RATIO  TARGET_MEAN\n",
      "0    886  0.994        0.385\n",
      "1      5  0.006        0.200\n",
      "\n",
      "\n",
      "PARCH_6 : 2\n",
      "   COUNT  RATIO  TARGET_MEAN\n",
      "0    890  0.999        0.384\n",
      "1      1  0.001        0.000\n",
      "\n",
      "\n",
      "EMBARKED_Q : 2\n",
      "   COUNT  RATIO  TARGET_MEAN\n",
      "0    814  0.914        0.383\n",
      "1     77  0.086        0.390\n",
      "\n",
      "\n",
      "EMBARKED_S : 2\n",
      "   COUNT  RATIO  TARGET_MEAN\n",
      "0    245  0.275        0.502\n",
      "1    646  0.725        0.339\n",
      "\n",
      "\n",
      "NEW_NAME_WORD_COUNT_4 : 2\n",
      "   COUNT  RATIO  TARGET_MEAN\n",
      "0    503  0.565        0.417\n",
      "1    388  0.435        0.340\n",
      "\n",
      "\n",
      "NEW_NAME_WORD_COUNT_5 : 2\n",
      "   COUNT  RATIO  TARGET_MEAN\n",
      "0    795  0.892        0.379\n",
      "1     96  0.108        0.427\n",
      "\n",
      "\n",
      "NEW_NAME_WORD_COUNT_6 : 2\n",
      "   COUNT  RATIO  TARGET_MEAN\n",
      "0    838  0.941        0.359\n",
      "1     53  0.059        0.774\n",
      "\n",
      "\n",
      "NEW_NAME_WORD_COUNT_7 : 2\n",
      "   COUNT  RATIO  TARGET_MEAN\n",
      "0    853  0.957        0.363\n",
      "1     38  0.043        0.842\n",
      "\n",
      "\n",
      "NEW_NAME_WORD_COUNT_8 : 2\n",
      "   COUNT  RATIO  TARGET_MEAN\n",
      "0    882  0.990        0.382\n",
      "1      9  0.010        0.556\n",
      "\n",
      "\n",
      "NEW_NAME_WORD_COUNT_9 : 2\n",
      "   COUNT  RATIO  TARGET_MEAN\n",
      "0    890  0.999        0.383\n",
      "1      1  0.001        1.000\n",
      "\n",
      "\n",
      "NEW_NAME_WORD_COUNT_14 : 2\n",
      "   COUNT  RATIO  TARGET_MEAN\n",
      "0    890  0.999        0.383\n",
      "1      1  0.001        1.000\n",
      "\n",
      "\n",
      "NEW_TITLE_Miss : 2\n",
      "   COUNT  RATIO  TARGET_MEAN\n",
      "0    709  0.796        0.303\n",
      "1    182  0.204        0.698\n",
      "\n",
      "\n",
      "NEW_TITLE_Mr : 2\n",
      "   COUNT  RATIO  TARGET_MEAN\n",
      "0    374  0.420        0.698\n",
      "1    517  0.580        0.157\n",
      "\n",
      "\n",
      "NEW_TITLE_Mrs : 2\n",
      "   COUNT  RATIO  TARGET_MEAN\n",
      "0    766  0.860        0.317\n",
      "1    125  0.140        0.792\n",
      "\n",
      "\n",
      "NEW_TITLE_Rare : 2\n",
      "   COUNT  RATIO  TARGET_MEAN\n",
      "0    864  0.970        0.382\n",
      "1     27  0.030        0.444\n",
      "\n",
      "\n",
      "NEW_FAMILY_SIZE_2 : 2\n",
      "   COUNT  RATIO  TARGET_MEAN\n",
      "0    730  0.819        0.347\n",
      "1    161  0.181        0.553\n",
      "\n",
      "\n",
      "NEW_FAMILY_SIZE_3 : 2\n",
      "   COUNT  RATIO  TARGET_MEAN\n",
      "0    789  0.886        0.359\n",
      "1    102  0.114        0.578\n",
      "\n",
      "\n",
      "NEW_FAMILY_SIZE_4 : 2\n",
      "   COUNT  RATIO  TARGET_MEAN\n",
      "0    862  0.967        0.372\n",
      "1     29  0.033        0.724\n",
      "\n",
      "\n",
      "NEW_FAMILY_SIZE_5 : 2\n",
      "   COUNT  RATIO  TARGET_MEAN\n",
      "0    876  0.983        0.387\n",
      "1     15  0.017        0.200\n",
      "\n",
      "\n",
      "NEW_FAMILY_SIZE_6 : 2\n",
      "   COUNT  RATIO  TARGET_MEAN\n",
      "0    869  0.975        0.390\n",
      "1     22  0.025        0.136\n",
      "\n",
      "\n",
      "NEW_FAMILY_SIZE_7 : 2\n",
      "   COUNT  RATIO  TARGET_MEAN\n",
      "0    879  0.987        0.385\n",
      "1     12  0.013        0.333\n",
      "\n",
      "\n",
      "NEW_FAMILY_SIZE_8 : 2\n",
      "   COUNT  RATIO  TARGET_MEAN\n",
      "0    885  0.993        0.386\n",
      "1      6  0.007        0.000\n",
      "\n",
      "\n",
      "NEW_FAMILY_SIZE_11 : 2\n",
      "   COUNT  RATIO  TARGET_MEAN\n",
      "0    884  0.992        0.387\n",
      "1      7  0.008        0.000\n",
      "\n",
      "\n",
      "NEW_AGE_CAT_senior : 2\n",
      "   COUNT  RATIO  TARGET_MEAN\n",
      "0    852  0.956        0.387\n",
      "1     39  0.044        0.308\n",
      "\n",
      "\n",
      "NEW_AGE_CAT_young : 2\n",
      "   COUNT  RATIO  TARGET_MEAN\n",
      "0    774  0.869        0.360\n",
      "1    117  0.131        0.538\n",
      "\n",
      "\n",
      "NEW_SEX_CAT_maturemale : 2\n",
      "   COUNT  RATIO  TARGET_MEAN\n",
      "0    361  0.405        0.662\n",
      "1    530  0.595        0.194\n",
      "\n",
      "\n",
      "NEW_SEX_CAT_seniorfemale : 2\n",
      "   COUNT  RATIO  TARGET_MEAN\n",
      "0    874  0.981        0.373\n",
      "1     17  0.019        0.941\n",
      "\n",
      "\n",
      "NEW_SEX_CAT_seniormale : 2\n",
      "   COUNT  RATIO  TARGET_MEAN\n",
      "0    844  0.947        0.398\n",
      "1     47  0.053        0.128\n",
      "\n",
      "\n"
     ]
    }
   ],
   "source": [
    "rare_analyser(df, \"SURVIVED\", cat_cols)"
   ]
  },
  {
   "cell_type": "code",
   "execution_count": 72,
   "id": "403111bd",
   "metadata": {
    "execution": {
     "iopub.execute_input": "2023-07-16T13:31:45.737545Z",
     "iopub.status.busy": "2023-07-16T13:31:45.737090Z",
     "iopub.status.idle": "2023-07-16T13:31:45.780235Z",
     "shell.execute_reply": "2023-07-16T13:31:45.778899Z"
    },
    "papermill": {
     "duration": 0.094024,
     "end_time": "2023-07-16T13:31:45.783076",
     "exception": false,
     "start_time": "2023-07-16T13:31:45.689052",
     "status": "completed"
    },
    "tags": []
   },
   "outputs": [],
   "source": [
    "uselses_cols = [col for col in df.columns if df[col].nunique() == 2 and\n",
    "                (df[col].value_counts() / len(df) < 0.01).any(axis=None)]"
   ]
  },
  {
   "cell_type": "code",
   "execution_count": 73,
   "id": "2e885554",
   "metadata": {
    "execution": {
     "iopub.execute_input": "2023-07-16T13:31:45.879268Z",
     "iopub.status.busy": "2023-07-16T13:31:45.878771Z",
     "iopub.status.idle": "2023-07-16T13:31:45.883478Z",
     "shell.execute_reply": "2023-07-16T13:31:45.882540Z"
    },
    "papermill": {
     "duration": 0.054702,
     "end_time": "2023-07-16T13:31:45.885451",
     "exception": false,
     "start_time": "2023-07-16T13:31:45.830749",
     "status": "completed"
    },
    "tags": []
   },
   "outputs": [],
   "source": [
    "# if we want to drop this list \"uselses_cols\" we use this cod \"df.drop(useless_cols,axis=1, inplace=True)\""
   ]
  },
  {
   "cell_type": "markdown",
   "id": "b0320aad",
   "metadata": {
    "papermill": {
     "duration": 0.046355,
     "end_time": "2023-07-16T13:31:45.978251",
     "exception": false,
     "start_time": "2023-07-16T13:31:45.931896",
     "status": "completed"
    },
    "tags": []
   },
   "source": [
    "# 11. Standardization"
   ]
  },
  {
   "cell_type": "code",
   "execution_count": 74,
   "id": "c33b9b79",
   "metadata": {
    "execution": {
     "iopub.execute_input": "2023-07-16T13:31:46.072752Z",
     "iopub.status.busy": "2023-07-16T13:31:46.072360Z",
     "iopub.status.idle": "2023-07-16T13:31:46.076465Z",
     "shell.execute_reply": "2023-07-16T13:31:46.075626Z"
    },
    "papermill": {
     "duration": 0.053941,
     "end_time": "2023-07-16T13:31:46.078536",
     "exception": false,
     "start_time": "2023-07-16T13:31:46.024595",
     "status": "completed"
    },
    "tags": []
   },
   "outputs": [],
   "source": [
    "scaler = StandardScaler()"
   ]
  },
  {
   "cell_type": "code",
   "execution_count": 75,
   "id": "179cefa8",
   "metadata": {
    "execution": {
     "iopub.execute_input": "2023-07-16T13:31:46.174178Z",
     "iopub.status.busy": "2023-07-16T13:31:46.173722Z",
     "iopub.status.idle": "2023-07-16T13:31:46.184556Z",
     "shell.execute_reply": "2023-07-16T13:31:46.183545Z"
    },
    "papermill": {
     "duration": 0.061241,
     "end_time": "2023-07-16T13:31:46.187106",
     "exception": false,
     "start_time": "2023-07-16T13:31:46.125865",
     "status": "completed"
    },
    "tags": []
   },
   "outputs": [],
   "source": [
    "df[num_cols] = scaler.fit_transform(df[num_cols])"
   ]
  },
  {
   "cell_type": "code",
   "execution_count": 76,
   "id": "6830ed51",
   "metadata": {
    "execution": {
     "iopub.execute_input": "2023-07-16T13:31:46.284858Z",
     "iopub.status.busy": "2023-07-16T13:31:46.284445Z",
     "iopub.status.idle": "2023-07-16T13:31:46.297546Z",
     "shell.execute_reply": "2023-07-16T13:31:46.296342Z"
    },
    "papermill": {
     "duration": 0.064146,
     "end_time": "2023-07-16T13:31:46.299990",
     "exception": false,
     "start_time": "2023-07-16T13:31:46.235844",
     "status": "completed"
    },
    "tags": []
   },
   "outputs": [
    {
     "data": {
      "text/html": [
       "<div>\n",
       "<style scoped>\n",
       "    .dataframe tbody tr th:only-of-type {\n",
       "        vertical-align: middle;\n",
       "    }\n",
       "\n",
       "    .dataframe tbody tr th {\n",
       "        vertical-align: top;\n",
       "    }\n",
       "\n",
       "    .dataframe thead th {\n",
       "        text-align: right;\n",
       "    }\n",
       "</style>\n",
       "<table border=\"1\" class=\"dataframe\">\n",
       "  <thead>\n",
       "    <tr style=\"text-align: right;\">\n",
       "      <th></th>\n",
       "      <th>AGE</th>\n",
       "      <th>FARE</th>\n",
       "      <th>NEW_NAME_COUNT</th>\n",
       "      <th>NEW_AGE_PCLASS</th>\n",
       "    </tr>\n",
       "  </thead>\n",
       "  <tbody>\n",
       "    <tr>\n",
       "      <th>0</th>\n",
       "      <td>-0.557</td>\n",
       "      <td>-0.557</td>\n",
       "      <td>-0.427</td>\n",
       "      <td>0.063</td>\n",
       "    </tr>\n",
       "    <tr>\n",
       "      <th>1</th>\n",
       "      <td>0.649</td>\n",
       "      <td>0.920</td>\n",
       "      <td>2.591</td>\n",
       "      <td>-0.787</td>\n",
       "    </tr>\n",
       "    <tr>\n",
       "      <th>2</th>\n",
       "      <td>-0.256</td>\n",
       "      <td>-0.541</td>\n",
       "      <td>-0.535</td>\n",
       "      <td>0.427</td>\n",
       "    </tr>\n",
       "    <tr>\n",
       "      <th>3</th>\n",
       "      <td>0.423</td>\n",
       "      <td>0.501</td>\n",
       "      <td>1.836</td>\n",
       "      <td>-0.878</td>\n",
       "    </tr>\n",
       "    <tr>\n",
       "      <th>4</th>\n",
       "      <td>0.423</td>\n",
       "      <td>-0.538</td>\n",
       "      <td>-0.320</td>\n",
       "      <td>1.247</td>\n",
       "    </tr>\n",
       "  </tbody>\n",
       "</table>\n",
       "</div>"
      ],
      "text/plain": [
       "     AGE   FARE  NEW_NAME_COUNT  NEW_AGE_PCLASS\n",
       "0 -0.557 -0.557          -0.427           0.063\n",
       "1  0.649  0.920           2.591          -0.787\n",
       "2 -0.256 -0.541          -0.535           0.427\n",
       "3  0.423  0.501           1.836          -0.878\n",
       "4  0.423 -0.538          -0.320           1.247"
      ]
     },
     "execution_count": 76,
     "metadata": {},
     "output_type": "execute_result"
    }
   ],
   "source": [
    "df[num_cols].head()"
   ]
  },
  {
   "cell_type": "code",
   "execution_count": 77,
   "id": "47f6745c",
   "metadata": {
    "execution": {
     "iopub.execute_input": "2023-07-16T13:31:46.397466Z",
     "iopub.status.busy": "2023-07-16T13:31:46.396692Z",
     "iopub.status.idle": "2023-07-16T13:31:46.425896Z",
     "shell.execute_reply": "2023-07-16T13:31:46.424952Z"
    },
    "papermill": {
     "duration": 0.080085,
     "end_time": "2023-07-16T13:31:46.428157",
     "exception": false,
     "start_time": "2023-07-16T13:31:46.348072",
     "status": "completed"
    },
    "tags": []
   },
   "outputs": [
    {
     "data": {
      "text/html": [
       "<div>\n",
       "<style scoped>\n",
       "    .dataframe tbody tr th:only-of-type {\n",
       "        vertical-align: middle;\n",
       "    }\n",
       "\n",
       "    .dataframe tbody tr th {\n",
       "        vertical-align: top;\n",
       "    }\n",
       "\n",
       "    .dataframe thead th {\n",
       "        text-align: right;\n",
       "    }\n",
       "</style>\n",
       "<table border=\"1\" class=\"dataframe\">\n",
       "  <thead>\n",
       "    <tr style=\"text-align: right;\">\n",
       "      <th></th>\n",
       "      <th>PASSENGERID</th>\n",
       "      <th>SURVIVED</th>\n",
       "      <th>SEX</th>\n",
       "      <th>AGE</th>\n",
       "      <th>FARE</th>\n",
       "      <th>New_CABIN_BOOL</th>\n",
       "      <th>NEW_NAME_COUNT</th>\n",
       "      <th>NEW_NAME_DR</th>\n",
       "      <th>NEW_AGE_PCLASS</th>\n",
       "      <th>NEW_IS_ALONE</th>\n",
       "      <th>PCLASS_2</th>\n",
       "      <th>PCLASS_3</th>\n",
       "      <th>SIBSP_1</th>\n",
       "      <th>SIBSP_2</th>\n",
       "      <th>SIBSP_3</th>\n",
       "      <th>SIBSP_4</th>\n",
       "      <th>SIBSP_5</th>\n",
       "      <th>SIBSP_8</th>\n",
       "      <th>PARCH_1</th>\n",
       "      <th>PARCH_2</th>\n",
       "      <th>PARCH_3</th>\n",
       "      <th>PARCH_4</th>\n",
       "      <th>PARCH_5</th>\n",
       "      <th>PARCH_6</th>\n",
       "      <th>EMBARKED_Q</th>\n",
       "      <th>EMBARKED_S</th>\n",
       "      <th>NEW_NAME_WORD_COUNT_4</th>\n",
       "      <th>NEW_NAME_WORD_COUNT_5</th>\n",
       "      <th>NEW_NAME_WORD_COUNT_6</th>\n",
       "      <th>NEW_NAME_WORD_COUNT_7</th>\n",
       "      <th>NEW_NAME_WORD_COUNT_8</th>\n",
       "      <th>NEW_NAME_WORD_COUNT_9</th>\n",
       "      <th>NEW_NAME_WORD_COUNT_14</th>\n",
       "      <th>NEW_TITLE_Miss</th>\n",
       "      <th>NEW_TITLE_Mr</th>\n",
       "      <th>NEW_TITLE_Mrs</th>\n",
       "      <th>NEW_TITLE_Rare</th>\n",
       "      <th>NEW_FAMILY_SIZE_2</th>\n",
       "      <th>NEW_FAMILY_SIZE_3</th>\n",
       "      <th>NEW_FAMILY_SIZE_4</th>\n",
       "      <th>NEW_FAMILY_SIZE_5</th>\n",
       "      <th>NEW_FAMILY_SIZE_6</th>\n",
       "      <th>NEW_FAMILY_SIZE_7</th>\n",
       "      <th>NEW_FAMILY_SIZE_8</th>\n",
       "      <th>NEW_FAMILY_SIZE_11</th>\n",
       "      <th>NEW_AGE_CAT_senior</th>\n",
       "      <th>NEW_AGE_CAT_young</th>\n",
       "      <th>NEW_SEX_CAT_maturemale</th>\n",
       "      <th>NEW_SEX_CAT_seniorfemale</th>\n",
       "      <th>NEW_SEX_CAT_seniormale</th>\n",
       "    </tr>\n",
       "  </thead>\n",
       "  <tbody>\n",
       "    <tr>\n",
       "      <th>0</th>\n",
       "      <td>1</td>\n",
       "      <td>0</td>\n",
       "      <td>1</td>\n",
       "      <td>-0.557</td>\n",
       "      <td>-0.557</td>\n",
       "      <td>0</td>\n",
       "      <td>-0.427</td>\n",
       "      <td>0</td>\n",
       "      <td>0.063</td>\n",
       "      <td>0</td>\n",
       "      <td>0</td>\n",
       "      <td>1</td>\n",
       "      <td>1</td>\n",
       "      <td>0</td>\n",
       "      <td>0</td>\n",
       "      <td>0</td>\n",
       "      <td>0</td>\n",
       "      <td>0</td>\n",
       "      <td>0</td>\n",
       "      <td>0</td>\n",
       "      <td>0</td>\n",
       "      <td>0</td>\n",
       "      <td>0</td>\n",
       "      <td>0</td>\n",
       "      <td>0</td>\n",
       "      <td>1</td>\n",
       "      <td>1</td>\n",
       "      <td>0</td>\n",
       "      <td>0</td>\n",
       "      <td>0</td>\n",
       "      <td>0</td>\n",
       "      <td>0</td>\n",
       "      <td>0</td>\n",
       "      <td>0</td>\n",
       "      <td>1</td>\n",
       "      <td>0</td>\n",
       "      <td>0</td>\n",
       "      <td>1</td>\n",
       "      <td>0</td>\n",
       "      <td>0</td>\n",
       "      <td>0</td>\n",
       "      <td>0</td>\n",
       "      <td>0</td>\n",
       "      <td>0</td>\n",
       "      <td>0</td>\n",
       "      <td>0</td>\n",
       "      <td>0</td>\n",
       "      <td>1</td>\n",
       "      <td>0</td>\n",
       "      <td>0</td>\n",
       "    </tr>\n",
       "    <tr>\n",
       "      <th>1</th>\n",
       "      <td>2</td>\n",
       "      <td>1</td>\n",
       "      <td>0</td>\n",
       "      <td>0.649</td>\n",
       "      <td>0.920</td>\n",
       "      <td>1</td>\n",
       "      <td>2.591</td>\n",
       "      <td>0</td>\n",
       "      <td>-0.787</td>\n",
       "      <td>0</td>\n",
       "      <td>0</td>\n",
       "      <td>0</td>\n",
       "      <td>1</td>\n",
       "      <td>0</td>\n",
       "      <td>0</td>\n",
       "      <td>0</td>\n",
       "      <td>0</td>\n",
       "      <td>0</td>\n",
       "      <td>0</td>\n",
       "      <td>0</td>\n",
       "      <td>0</td>\n",
       "      <td>0</td>\n",
       "      <td>0</td>\n",
       "      <td>0</td>\n",
       "      <td>0</td>\n",
       "      <td>0</td>\n",
       "      <td>0</td>\n",
       "      <td>0</td>\n",
       "      <td>0</td>\n",
       "      <td>1</td>\n",
       "      <td>0</td>\n",
       "      <td>0</td>\n",
       "      <td>0</td>\n",
       "      <td>0</td>\n",
       "      <td>0</td>\n",
       "      <td>1</td>\n",
       "      <td>0</td>\n",
       "      <td>1</td>\n",
       "      <td>0</td>\n",
       "      <td>0</td>\n",
       "      <td>0</td>\n",
       "      <td>0</td>\n",
       "      <td>0</td>\n",
       "      <td>0</td>\n",
       "      <td>0</td>\n",
       "      <td>0</td>\n",
       "      <td>0</td>\n",
       "      <td>0</td>\n",
       "      <td>0</td>\n",
       "      <td>0</td>\n",
       "    </tr>\n",
       "    <tr>\n",
       "      <th>2</th>\n",
       "      <td>3</td>\n",
       "      <td>1</td>\n",
       "      <td>0</td>\n",
       "      <td>-0.256</td>\n",
       "      <td>-0.541</td>\n",
       "      <td>0</td>\n",
       "      <td>-0.535</td>\n",
       "      <td>0</td>\n",
       "      <td>0.427</td>\n",
       "      <td>1</td>\n",
       "      <td>0</td>\n",
       "      <td>1</td>\n",
       "      <td>0</td>\n",
       "      <td>0</td>\n",
       "      <td>0</td>\n",
       "      <td>0</td>\n",
       "      <td>0</td>\n",
       "      <td>0</td>\n",
       "      <td>0</td>\n",
       "      <td>0</td>\n",
       "      <td>0</td>\n",
       "      <td>0</td>\n",
       "      <td>0</td>\n",
       "      <td>0</td>\n",
       "      <td>0</td>\n",
       "      <td>1</td>\n",
       "      <td>0</td>\n",
       "      <td>0</td>\n",
       "      <td>0</td>\n",
       "      <td>0</td>\n",
       "      <td>0</td>\n",
       "      <td>0</td>\n",
       "      <td>0</td>\n",
       "      <td>1</td>\n",
       "      <td>0</td>\n",
       "      <td>0</td>\n",
       "      <td>0</td>\n",
       "      <td>0</td>\n",
       "      <td>0</td>\n",
       "      <td>0</td>\n",
       "      <td>0</td>\n",
       "      <td>0</td>\n",
       "      <td>0</td>\n",
       "      <td>0</td>\n",
       "      <td>0</td>\n",
       "      <td>0</td>\n",
       "      <td>0</td>\n",
       "      <td>0</td>\n",
       "      <td>0</td>\n",
       "      <td>0</td>\n",
       "    </tr>\n",
       "    <tr>\n",
       "      <th>3</th>\n",
       "      <td>4</td>\n",
       "      <td>1</td>\n",
       "      <td>0</td>\n",
       "      <td>0.423</td>\n",
       "      <td>0.501</td>\n",
       "      <td>1</td>\n",
       "      <td>1.836</td>\n",
       "      <td>0</td>\n",
       "      <td>-0.878</td>\n",
       "      <td>0</td>\n",
       "      <td>0</td>\n",
       "      <td>0</td>\n",
       "      <td>1</td>\n",
       "      <td>0</td>\n",
       "      <td>0</td>\n",
       "      <td>0</td>\n",
       "      <td>0</td>\n",
       "      <td>0</td>\n",
       "      <td>0</td>\n",
       "      <td>0</td>\n",
       "      <td>0</td>\n",
       "      <td>0</td>\n",
       "      <td>0</td>\n",
       "      <td>0</td>\n",
       "      <td>0</td>\n",
       "      <td>1</td>\n",
       "      <td>0</td>\n",
       "      <td>0</td>\n",
       "      <td>0</td>\n",
       "      <td>1</td>\n",
       "      <td>0</td>\n",
       "      <td>0</td>\n",
       "      <td>0</td>\n",
       "      <td>0</td>\n",
       "      <td>0</td>\n",
       "      <td>1</td>\n",
       "      <td>0</td>\n",
       "      <td>1</td>\n",
       "      <td>0</td>\n",
       "      <td>0</td>\n",
       "      <td>0</td>\n",
       "      <td>0</td>\n",
       "      <td>0</td>\n",
       "      <td>0</td>\n",
       "      <td>0</td>\n",
       "      <td>0</td>\n",
       "      <td>0</td>\n",
       "      <td>0</td>\n",
       "      <td>0</td>\n",
       "      <td>0</td>\n",
       "    </tr>\n",
       "    <tr>\n",
       "      <th>4</th>\n",
       "      <td>5</td>\n",
       "      <td>0</td>\n",
       "      <td>1</td>\n",
       "      <td>0.423</td>\n",
       "      <td>-0.538</td>\n",
       "      <td>0</td>\n",
       "      <td>-0.320</td>\n",
       "      <td>0</td>\n",
       "      <td>1.247</td>\n",
       "      <td>1</td>\n",
       "      <td>0</td>\n",
       "      <td>1</td>\n",
       "      <td>0</td>\n",
       "      <td>0</td>\n",
       "      <td>0</td>\n",
       "      <td>0</td>\n",
       "      <td>0</td>\n",
       "      <td>0</td>\n",
       "      <td>0</td>\n",
       "      <td>0</td>\n",
       "      <td>0</td>\n",
       "      <td>0</td>\n",
       "      <td>0</td>\n",
       "      <td>0</td>\n",
       "      <td>0</td>\n",
       "      <td>1</td>\n",
       "      <td>1</td>\n",
       "      <td>0</td>\n",
       "      <td>0</td>\n",
       "      <td>0</td>\n",
       "      <td>0</td>\n",
       "      <td>0</td>\n",
       "      <td>0</td>\n",
       "      <td>0</td>\n",
       "      <td>1</td>\n",
       "      <td>0</td>\n",
       "      <td>0</td>\n",
       "      <td>0</td>\n",
       "      <td>0</td>\n",
       "      <td>0</td>\n",
       "      <td>0</td>\n",
       "      <td>0</td>\n",
       "      <td>0</td>\n",
       "      <td>0</td>\n",
       "      <td>0</td>\n",
       "      <td>0</td>\n",
       "      <td>0</td>\n",
       "      <td>1</td>\n",
       "      <td>0</td>\n",
       "      <td>0</td>\n",
       "    </tr>\n",
       "  </tbody>\n",
       "</table>\n",
       "</div>"
      ],
      "text/plain": [
       "   PASSENGERID  SURVIVED  SEX    AGE   FARE  New_CABIN_BOOL  NEW_NAME_COUNT  NEW_NAME_DR  NEW_AGE_PCLASS  NEW_IS_ALONE  PCLASS_2  PCLASS_3  SIBSP_1  SIBSP_2  SIBSP_3  SIBSP_4  SIBSP_5  SIBSP_8  PARCH_1  PARCH_2  PARCH_3  PARCH_4  PARCH_5  PARCH_6  EMBARKED_Q  EMBARKED_S  NEW_NAME_WORD_COUNT_4  NEW_NAME_WORD_COUNT_5  NEW_NAME_WORD_COUNT_6  NEW_NAME_WORD_COUNT_7  NEW_NAME_WORD_COUNT_8  NEW_NAME_WORD_COUNT_9  NEW_NAME_WORD_COUNT_14  NEW_TITLE_Miss  NEW_TITLE_Mr  NEW_TITLE_Mrs  NEW_TITLE_Rare  \\\n",
       "0            1         0    1 -0.557 -0.557               0          -0.427            0           0.063             0         0         1        1        0        0        0        0        0        0        0        0        0        0        0           0           1                      1                      0                      0                      0                      0                      0                       0               0             1              0               0   \n",
       "1            2         1    0  0.649  0.920               1           2.591            0          -0.787             0         0         0        1        0        0        0        0        0        0        0        0        0        0        0           0           0                      0                      0                      0                      1                      0                      0                       0               0             0              1               0   \n",
       "2            3         1    0 -0.256 -0.541               0          -0.535            0           0.427             1         0         1        0        0        0        0        0        0        0        0        0        0        0        0           0           1                      0                      0                      0                      0                      0                      0                       0               1             0              0               0   \n",
       "3            4         1    0  0.423  0.501               1           1.836            0          -0.878             0         0         0        1        0        0        0        0        0        0        0        0        0        0        0           0           1                      0                      0                      0                      1                      0                      0                       0               0             0              1               0   \n",
       "4            5         0    1  0.423 -0.538               0          -0.320            0           1.247             1         0         1        0        0        0        0        0        0        0        0        0        0        0        0           0           1                      1                      0                      0                      0                      0                      0                       0               0             1              0               0   \n",
       "\n",
       "   NEW_FAMILY_SIZE_2  NEW_FAMILY_SIZE_3  NEW_FAMILY_SIZE_4  NEW_FAMILY_SIZE_5  NEW_FAMILY_SIZE_6  NEW_FAMILY_SIZE_7  NEW_FAMILY_SIZE_8  NEW_FAMILY_SIZE_11  NEW_AGE_CAT_senior  NEW_AGE_CAT_young  NEW_SEX_CAT_maturemale  NEW_SEX_CAT_seniorfemale  NEW_SEX_CAT_seniormale  \n",
       "0                  1                  0                  0                  0                  0                  0                  0                   0                   0                  0                       1                         0                       0  \n",
       "1                  1                  0                  0                  0                  0                  0                  0                   0                   0                  0                       0                         0                       0  \n",
       "2                  0                  0                  0                  0                  0                  0                  0                   0                   0                  0                       0                         0                       0  \n",
       "3                  1                  0                  0                  0                  0                  0                  0                   0                   0                  0                       0                         0                       0  \n",
       "4                  0                  0                  0                  0                  0                  0                  0                   0                   0                  0                       1                         0                       0  "
      ]
     },
     "execution_count": 77,
     "metadata": {},
     "output_type": "execute_result"
    }
   ],
   "source": [
    "df.head()"
   ]
  },
  {
   "cell_type": "markdown",
   "id": "d03fbdfc",
   "metadata": {
    "papermill": {
     "duration": 0.047463,
     "end_time": "2023-07-16T13:31:46.523372",
     "exception": false,
     "start_time": "2023-07-16T13:31:46.475909",
     "status": "completed"
    },
    "tags": []
   },
   "source": [
    "# 12. Model"
   ]
  },
  {
   "cell_type": "code",
   "execution_count": 78,
   "id": "874c4980",
   "metadata": {
    "execution": {
     "iopub.execute_input": "2023-07-16T13:31:46.620821Z",
     "iopub.status.busy": "2023-07-16T13:31:46.620360Z",
     "iopub.status.idle": "2023-07-16T13:31:46.625381Z",
     "shell.execute_reply": "2023-07-16T13:31:46.624280Z"
    },
    "papermill": {
     "duration": 0.05643,
     "end_time": "2023-07-16T13:31:46.627513",
     "exception": false,
     "start_time": "2023-07-16T13:31:46.571083",
     "status": "completed"
    },
    "tags": []
   },
   "outputs": [],
   "source": [
    "# Dependent variable\n",
    "\n",
    "y = df[\"SURVIVED\"]"
   ]
  },
  {
   "cell_type": "code",
   "execution_count": 79,
   "id": "a1dbb6cf",
   "metadata": {
    "execution": {
     "iopub.execute_input": "2023-07-16T13:31:46.724106Z",
     "iopub.status.busy": "2023-07-16T13:31:46.723401Z",
     "iopub.status.idle": "2023-07-16T13:31:46.728716Z",
     "shell.execute_reply": "2023-07-16T13:31:46.727934Z"
    },
    "papermill": {
     "duration": 0.056039,
     "end_time": "2023-07-16T13:31:46.730875",
     "exception": false,
     "start_time": "2023-07-16T13:31:46.674836",
     "status": "completed"
    },
    "tags": []
   },
   "outputs": [],
   "source": [
    "# Independent variables \n",
    "\n",
    "X = df.drop([\"PASSENGERID\", \"SURVIVED\"], axis=1)"
   ]
  },
  {
   "cell_type": "code",
   "execution_count": 80,
   "id": "fe3e69d1",
   "metadata": {
    "execution": {
     "iopub.execute_input": "2023-07-16T13:31:46.829283Z",
     "iopub.status.busy": "2023-07-16T13:31:46.828604Z",
     "iopub.status.idle": "2023-07-16T13:31:46.835276Z",
     "shell.execute_reply": "2023-07-16T13:31:46.834481Z"
    },
    "papermill": {
     "duration": 0.059479,
     "end_time": "2023-07-16T13:31:46.837473",
     "exception": false,
     "start_time": "2023-07-16T13:31:46.777994",
     "status": "completed"
    },
    "tags": []
   },
   "outputs": [],
   "source": [
    "# Train-Test Split for Machine Learning Model Evaluation\n",
    "\n",
    "X_train, X_test, y_train, y_test = train_test_split(X, y, test_size=0.30, random_state=17)"
   ]
  },
  {
   "cell_type": "code",
   "execution_count": 81,
   "id": "84dae95c",
   "metadata": {
    "execution": {
     "iopub.execute_input": "2023-07-16T13:31:46.934757Z",
     "iopub.status.busy": "2023-07-16T13:31:46.934073Z",
     "iopub.status.idle": "2023-07-16T13:31:47.217814Z",
     "shell.execute_reply": "2023-07-16T13:31:47.216295Z"
    },
    "papermill": {
     "duration": 0.336247,
     "end_time": "2023-07-16T13:31:47.221386",
     "exception": false,
     "start_time": "2023-07-16T13:31:46.885139",
     "status": "completed"
    },
    "tags": []
   },
   "outputs": [],
   "source": [
    "# Random Forest Classifier Model Training\n",
    "\n",
    "rf_model = RandomForestClassifier(random_state=46).fit(X_train, y_train)"
   ]
  },
  {
   "cell_type": "code",
   "execution_count": 82,
   "id": "301752aa",
   "metadata": {
    "execution": {
     "iopub.execute_input": "2023-07-16T13:31:47.319640Z",
     "iopub.status.busy": "2023-07-16T13:31:47.318879Z",
     "iopub.status.idle": "2023-07-16T13:31:47.344462Z",
     "shell.execute_reply": "2023-07-16T13:31:47.343472Z"
    },
    "papermill": {
     "duration": 0.077689,
     "end_time": "2023-07-16T13:31:47.347099",
     "exception": false,
     "start_time": "2023-07-16T13:31:47.269410",
     "status": "completed"
    },
    "tags": []
   },
   "outputs": [],
   "source": [
    "# Prediction using Random Forest Classifier Model\n",
    "\n",
    "y_pred = rf_model.predict(X_test)"
   ]
  },
  {
   "cell_type": "code",
   "execution_count": 83,
   "id": "547f77e0",
   "metadata": {
    "execution": {
     "iopub.execute_input": "2023-07-16T13:31:47.444655Z",
     "iopub.status.busy": "2023-07-16T13:31:47.443843Z",
     "iopub.status.idle": "2023-07-16T13:31:47.453341Z",
     "shell.execute_reply": "2023-07-16T13:31:47.452181Z"
    },
    "papermill": {
     "duration": 0.060838,
     "end_time": "2023-07-16T13:31:47.455933",
     "exception": false,
     "start_time": "2023-07-16T13:31:47.395095",
     "status": "completed"
    },
    "tags": []
   },
   "outputs": [
    {
     "data": {
      "text/plain": [
       "0.7985074626865671"
      ]
     },
     "execution_count": 83,
     "metadata": {},
     "output_type": "execute_result"
    }
   ],
   "source": [
    "# Accuracy Score of Random Forest Classifier Model Prediction\n",
    "\n",
    "accuracy_score(y_pred, y_test)"
   ]
  },
  {
   "cell_type": "markdown",
   "id": "b634d380",
   "metadata": {
    "papermill": {
     "duration": 0.047421,
     "end_time": "2023-07-16T13:31:47.551258",
     "exception": false,
     "start_time": "2023-07-16T13:31:47.503837",
     "status": "completed"
    },
    "tags": []
   },
   "source": [
    "**If people had given us their information before they boarded the ship, and we had used this information to ask the model, we could have accurately predicted whether 79% of those who boarded the ship would have survived.**"
   ]
  },
  {
   "cell_type": "code",
   "execution_count": 84,
   "id": "c60f5bb3",
   "metadata": {
    "execution": {
     "iopub.execute_input": "2023-07-16T13:31:47.649836Z",
     "iopub.status.busy": "2023-07-16T13:31:47.649404Z",
     "iopub.status.idle": "2023-07-16T13:31:47.657649Z",
     "shell.execute_reply": "2023-07-16T13:31:47.656571Z"
    },
    "papermill": {
     "duration": 0.059901,
     "end_time": "2023-07-16T13:31:47.659979",
     "exception": false,
     "start_time": "2023-07-16T13:31:47.600078",
     "status": "completed"
    },
    "tags": []
   },
   "outputs": [],
   "source": [
    "# Plot Importance\n",
    "\n",
    "def plot_importance(model, features, num=len(X), save=False):\n",
    "    feature_imp = pd.DataFrame({'Value': model.feature_importances_, 'Feature': features.columns})\n",
    "    plt.figure(figsize=(10, 10))\n",
    "    sns.set(font_scale=1)\n",
    "    sns.barplot(x=\"Value\", y=\"Feature\", data=feature_imp.sort_values(by=\"Value\",\n",
    "                                                                      ascending=False)[0:num])\n",
    "    plt.title('Features')\n",
    "    plt.tight_layout()\n",
    "    plt.show(block=True)\n",
    "    if save:\n",
    "        plt.savefig('importances.png')"
   ]
  },
  {
   "cell_type": "code",
   "execution_count": 85,
   "id": "07531a29",
   "metadata": {
    "execution": {
     "iopub.execute_input": "2023-07-16T13:31:47.757289Z",
     "iopub.status.busy": "2023-07-16T13:31:47.756104Z",
     "iopub.status.idle": "2023-07-16T13:31:48.877361Z",
     "shell.execute_reply": "2023-07-16T13:31:48.876555Z"
    },
    "papermill": {
     "duration": 1.173013,
     "end_time": "2023-07-16T13:31:48.880453",
     "exception": false,
     "start_time": "2023-07-16T13:31:47.707440",
     "status": "completed"
    },
    "tags": []
   },
   "outputs": [
    {
     "data": {
      "image/png": "[encoded data removed]",
      "text/plain": [
       "<Figure size 1000x1000 with 1 Axes>"
      ]
     },
     "metadata": {},
     "output_type": "display_data"
    }
   ],
   "source": [
    "plot_importance(rf_model, X_train)"
   ]
  },
  {
   "cell_type": "markdown",
   "id": "b04cabeb",
   "metadata": {
    "papermill": {
     "duration": 0.049399,
     "end_time": "2023-07-16T13:31:48.980041",
     "exception": false,
     "start_time": "2023-07-16T13:31:48.930642",
     "status": "completed"
    },
    "tags": []
   },
   "source": [
    "# 13. Accuracy Score without Performing Any Operation"
   ]
  },
  {
   "cell_type": "code",
   "execution_count": 86,
   "id": "c2de67bb",
   "metadata": {
    "execution": {
     "iopub.execute_input": "2023-07-16T13:31:49.091734Z",
     "iopub.status.busy": "2023-07-16T13:31:49.091206Z",
     "iopub.status.idle": "2023-07-16T13:31:49.104920Z",
     "shell.execute_reply": "2023-07-16T13:31:49.103535Z"
    },
    "papermill": {
     "duration": 0.074041,
     "end_time": "2023-07-16T13:31:49.107750",
     "exception": false,
     "start_time": "2023-07-16T13:31:49.033709",
     "status": "completed"
    },
    "tags": []
   },
   "outputs": [],
   "source": [
    "# Loading the Data Set\n",
    "\n",
    "dff = pd.read_csv('/kaggle/input/data-science-day1-titanic/DSB_Day1_Titanic_train.csv')"
   ]
  },
  {
   "cell_type": "code",
   "execution_count": 87,
   "id": "f0831df1",
   "metadata": {
    "execution": {
     "iopub.execute_input": "2023-07-16T13:31:49.219777Z",
     "iopub.status.busy": "2023-07-16T13:31:49.218887Z",
     "iopub.status.idle": "2023-07-16T13:31:49.227790Z",
     "shell.execute_reply": "2023-07-16T13:31:49.225858Z"
    },
    "papermill": {
     "duration": 0.073161,
     "end_time": "2023-07-16T13:31:49.231312",
     "exception": false,
     "start_time": "2023-07-16T13:31:49.158151",
     "status": "completed"
    },
    "tags": []
   },
   "outputs": [],
   "source": [
    "dff.dropna(inplace=True)"
   ]
  },
  {
   "cell_type": "code",
   "execution_count": 88,
   "id": "dbbf9eb7",
   "metadata": {
    "execution": {
     "iopub.execute_input": "2023-07-16T13:31:49.339260Z",
     "iopub.status.busy": "2023-07-16T13:31:49.338841Z",
     "iopub.status.idle": "2023-07-16T13:31:49.356617Z",
     "shell.execute_reply": "2023-07-16T13:31:49.355249Z"
    },
    "papermill": {
     "duration": 0.072481,
     "end_time": "2023-07-16T13:31:49.359285",
     "exception": false,
     "start_time": "2023-07-16T13:31:49.286804",
     "status": "completed"
    },
    "tags": []
   },
   "outputs": [],
   "source": [
    "dff = pd.get_dummies(dff, columns=[\"Sex\", \"Embarked\"], drop_first=True)"
   ]
  },
  {
   "cell_type": "code",
   "execution_count": 89,
   "id": "1694c053",
   "metadata": {
    "execution": {
     "iopub.execute_input": "2023-07-16T13:31:49.469682Z",
     "iopub.status.busy": "2023-07-16T13:31:49.468615Z",
     "iopub.status.idle": "2023-07-16T13:31:49.475811Z",
     "shell.execute_reply": "2023-07-16T13:31:49.474774Z"
    },
    "papermill": {
     "duration": 0.067855,
     "end_time": "2023-07-16T13:31:49.478039",
     "exception": false,
     "start_time": "2023-07-16T13:31:49.410184",
     "status": "completed"
    },
    "tags": []
   },
   "outputs": [],
   "source": [
    "y = dff[\"Survived\"]\n",
    "X = dff.drop([\"PassengerId\", \"Survived\", \"Name\", \"Ticket\", \"Cabin\"], axis=1)"
   ]
  },
  {
   "cell_type": "code",
   "execution_count": 90,
   "id": "a2235d23",
   "metadata": {
    "execution": {
     "iopub.execute_input": "2023-07-16T13:31:49.582449Z",
     "iopub.status.busy": "2023-07-16T13:31:49.581397Z",
     "iopub.status.idle": "2023-07-16T13:31:49.590481Z",
     "shell.execute_reply": "2023-07-16T13:31:49.589423Z"
    },
    "papermill": {
     "duration": 0.064635,
     "end_time": "2023-07-16T13:31:49.593116",
     "exception": false,
     "start_time": "2023-07-16T13:31:49.528481",
     "status": "completed"
    },
    "tags": []
   },
   "outputs": [],
   "source": [
    "X_train, X_test, y_train, y_test = train_test_split(X, y, test_size=0.30, random_state=17)"
   ]
  },
  {
   "cell_type": "code",
   "execution_count": 91,
   "id": "4dce9921",
   "metadata": {
    "execution": {
     "iopub.execute_input": "2023-07-16T13:31:49.696357Z",
     "iopub.status.busy": "2023-07-16T13:31:49.695875Z",
     "iopub.status.idle": "2023-07-16T13:31:49.932784Z",
     "shell.execute_reply": "2023-07-16T13:31:49.931883Z"
    },
    "papermill": {
     "duration": 0.291885,
     "end_time": "2023-07-16T13:31:49.935812",
     "exception": false,
     "start_time": "2023-07-16T13:31:49.643927",
     "status": "completed"
    },
    "tags": []
   },
   "outputs": [],
   "source": [
    "rf_model = RandomForestClassifier(random_state=46).fit(X_train, y_train)"
   ]
  },
  {
   "cell_type": "code",
   "execution_count": 92,
   "id": "f90e7d8a",
   "metadata": {
    "execution": {
     "iopub.execute_input": "2023-07-16T13:31:50.119175Z",
     "iopub.status.busy": "2023-07-16T13:31:50.118751Z",
     "iopub.status.idle": "2023-07-16T13:31:50.139732Z",
     "shell.execute_reply": "2023-07-16T13:31:50.138632Z"
    },
    "papermill": {
     "duration": 0.143354,
     "end_time": "2023-07-16T13:31:50.142298",
     "exception": false,
     "start_time": "2023-07-16T13:31:49.998944",
     "status": "completed"
    },
    "tags": []
   },
   "outputs": [],
   "source": [
    "y_pred = rf_model.predict(X_test)"
   ]
  },
  {
   "cell_type": "code",
   "execution_count": 93,
   "id": "ada0c93e",
   "metadata": {
    "execution": {
     "iopub.execute_input": "2023-07-16T13:31:50.246057Z",
     "iopub.status.busy": "2023-07-16T13:31:50.245625Z",
     "iopub.status.idle": "2023-07-16T13:31:50.253858Z",
     "shell.execute_reply": "2023-07-16T13:31:50.252744Z"
    },
    "papermill": {
     "duration": 0.064134,
     "end_time": "2023-07-16T13:31:50.256150",
     "exception": false,
     "start_time": "2023-07-16T13:31:50.192016",
     "status": "completed"
    },
    "tags": []
   },
   "outputs": [
    {
     "data": {
      "text/plain": [
       "0.7090909090909091"
      ]
     },
     "execution_count": 93,
     "metadata": {},
     "output_type": "execute_result"
    }
   ],
   "source": [
    "accuracy_score(y_pred, y_test)"
   ]
  },
  {
   "cell_type": "markdown",
   "id": "1fc2f0aa",
   "metadata": {
    "papermill": {
     "duration": 0.049738,
     "end_time": "2023-07-16T13:31:50.355547",
     "exception": false,
     "start_time": "2023-07-16T13:31:50.305809",
     "status": "completed"
    },
    "tags": []
   },
   "source": [
    "# 14. Plot Importance"
   ]
  },
  {
   "cell_type": "code",
   "execution_count": 94,
   "id": "45cb4423",
   "metadata": {
    "execution": {
     "iopub.execute_input": "2023-07-16T13:31:50.457918Z",
     "iopub.status.busy": "2023-07-16T13:31:50.457148Z",
     "iopub.status.idle": "2023-07-16T13:31:50.465567Z",
     "shell.execute_reply": "2023-07-16T13:31:50.464759Z"
    },
    "papermill": {
     "duration": 0.062131,
     "end_time": "2023-07-16T13:31:50.467901",
     "exception": false,
     "start_time": "2023-07-16T13:31:50.405770",
     "status": "completed"
    },
    "tags": []
   },
   "outputs": [],
   "source": [
    "def plot_importance(model, features, num=len(X), save=False):\n",
    "    feature_imp = pd.DataFrame({'Value': model.feature_importances_, 'Feature': features.columns})\n",
    "    plt.figure(figsize=(10, 10))\n",
    "    sns.set(font_scale=1)\n",
    "    sns.barplot(x=\"Value\", y=\"Feature\", data=feature_imp.sort_values(by=\"Value\",\n",
    "                                                                      ascending=False)[0:num])\n",
    "    plt.title('Features')\n",
    "    plt.tight_layout()\n",
    "    plt.show(block=True)\n",
    "    if save:\n",
    "        plt.savefig('importances.png')"
   ]
  },
  {
   "cell_type": "code",
   "execution_count": 95,
   "id": "2118e623",
   "metadata": {
    "execution": {
     "iopub.execute_input": "2023-07-16T13:31:50.572233Z",
     "iopub.status.busy": "2023-07-16T13:31:50.571207Z",
     "iopub.status.idle": "2023-07-16T13:31:51.141053Z",
     "shell.execute_reply": "2023-07-16T13:31:51.139776Z"
    },
    "papermill": {
     "duration": 0.625452,
     "end_time": "2023-07-16T13:31:51.143873",
     "exception": false,
     "start_time": "2023-07-16T13:31:50.518421",
     "status": "completed"
    },
    "tags": []
   },
   "outputs": [
    {
     "data": {
      "image/png": "[encoded data removed]",
      "text/plain": [
       "<Figure size 1000x1000 with 1 Axes>"
      ]
     },
     "metadata": {},
     "output_type": "display_data"
    }
   ],
   "source": [
    "plot_importance(rf_model, X_train)"
   ]
  }
 ],
 "metadata": {
  "kernelspec": {
   "display_name": "Python 3",
   "language": "python",
   "name": "python3"
  },
  "language_info": {
   "codemirror_mode": {
    "name": "ipython",
    "version": 3
   },
   "file_extension": ".py",
   "mimetype": "text/x-python",
   "name": "python",
   "nbconvert_exporter": "python",
   "pygments_lexer": "ipython3",
   "version": "3.10.12"
  },
  "papermill": {
   "default_parameters": {},
   "duration": 49.078662,
   "end_time": "2023-07-16T13:31:52.319606",
   "environment_variables": {},
   "exception": null,
   "input_path": "__notebook__.ipynb",
   "output_path": "__notebook__.ipynb",
   "parameters": {},
   "start_time": "2023-07-16T13:31:03.240944",
   "version": "2.4.0"
  }
 },
 "nbformat": 4,
 "nbformat_minor": 5
}
